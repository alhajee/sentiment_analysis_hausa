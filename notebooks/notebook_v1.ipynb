{
 "cells": [
  {
   "cell_type": "code",
   "execution_count": 1,
   "id": "b3fc097b",
   "metadata": {},
   "outputs": [],
   "source": [
    "#!/usr/bin/env python3\n",
    "# -*- coding: utf-8 -*-"
   ]
  },
  {
   "cell_type": "markdown",
   "id": "6cd4cad8",
   "metadata": {},
   "source": [
    "## Import relevant libraries"
   ]
  },
  {
   "cell_type": "code",
   "execution_count": 2,
   "id": "7680b9a9",
   "metadata": {},
   "outputs": [
    {
     "name": "stdout",
     "output_type": "stream",
     "text": [
      "Created `%t` as an alias for `%timeit`.\n",
      "Created `%%t` as an alias for `%%timeit`.\n"
     ]
    }
   ],
   "source": [
    "# core system imports\n",
    "import os\n",
    "\n",
    "import numpy as np, pandas as pd\n",
    "import matplotlib.pyplot as plt\n",
    "import tensorflow as tf\n",
    "import string\n",
    "import random\n",
    "import joblib\n",
    "import itertools\n",
    "\n",
    "from timeit import timeit\n",
    "from unidecode import unidecode\n",
    "import matplotlib.pyplot as plt\n",
    "\n",
    "from gensim.models import Word2Vec\n",
    "\n",
    "import tensorflow as tf\n",
    "from tensorflow.keras.callbacks import CSVLogger\n",
    "from tensorflow.keras.preprocessing.text import Tokenizer\n",
    "from tensorflow.keras.preprocessing.sequence import pad_sequences\n",
    "from tensorflow.keras.layers import (\n",
    "    Dense, \n",
    "    Input, \n",
    "    LSTM, \n",
    "    Embedding, \n",
    "    Dropout, \n",
    "    GlobalMaxPool1D\n",
    ")\n",
    "from tensorflow.keras.models import Sequential\n",
    "\n",
    "from sklearn import metrics\n",
    "from sklearn.utils import shuffle\n",
    "from sklearn.model_selection import train_test_split\n",
    "from sklearn.preprocessing import LabelEncoder\n",
    "from sklearn.model_selection import (\n",
    "    validation_curve,\n",
    "    learning_curve\n",
    ")\n",
    "from sklearn.metrics import (\n",
    "    confusion_matrix,\n",
    "    roc_curve,\n",
    "    roc_auc_score,\n",
    "    f1_score,\n",
    "    precision_score,\n",
    "    recall_score,\n",
    "    accuracy_score,\n",
    "    precision_recall_fscore_support\n",
    ")\n",
    "\n",
    "# Matplotlib config\n",
    "%matplotlib inline\n",
    "%alias_magic t timeit\n"
   ]
  },
  {
   "cell_type": "code",
   "execution_count": 3,
   "id": "aad9ccbb",
   "metadata": {},
   "outputs": [
    {
     "name": "stdout",
     "output_type": "stream",
     "text": [
      "Num GPUs Available:  1\n"
     ]
    }
   ],
   "source": [
    "# check for available GPU\n",
    "print(\"Num GPUs Available: \", len(tf.config.experimental.list_physical_devices('GPU')))"
   ]
  },
  {
   "cell_type": "code",
   "execution_count": 4,
   "id": "4fe767c6",
   "metadata": {},
   "outputs": [],
   "source": [
    "# Location of the pipeline metadata store\n",
    "_pipeline_root = '../pipeline/'\n",
    "\n",
    "# Directory of the raw data files\n",
    "_data_root = '../input/'\n",
    "\n",
    "# Directory of the pretrained word embeddings\n",
    "_embedding_root = '../input/embeddings'\n",
    "\n",
    "_data_filepath = os.path.join(_data_root, \"corona_dataset_1.csv\")\n",
    "\n",
    "_stopwords_filepath = os.path.join(_data_root, \"stopwords.txt\")\n",
    "\n",
    "_embedding_model_filepath = os.path.join(_embedding_root, \"model_sg\")\n",
    "_pretrained_vectors_filepath = os.path.join(_embedding_root, \"model_sg.wv.vectors.npy\")\n",
    "_neg_vectors_filepath = os.path.join(_embedding_root, \"model_sg.trainables.syn1neg.npy\")\n"
   ]
  },
  {
   "cell_type": "code",
   "execution_count": 5,
   "id": "c70a3c84",
   "metadata": {},
   "outputs": [
    {
     "name": "stdout",
     "output_type": "stream",
     "text": [
      "['model_sg', 'model_sg.trainables.syn1neg.npy', 'model_sg.wv.vectors.npy']\n"
     ]
    }
   ],
   "source": [
    "# List input datasets in directory\n",
    "os.listdir(_data_root)\n",
    "\n",
    "# Word embeddings\n",
    "print(os.listdir(_embedding_root))"
   ]
  },
  {
   "cell_type": "markdown",
   "id": "a9e4fecb",
   "metadata": {},
   "source": [
    "## Load training and test data"
   ]
  },
  {
   "cell_type": "code",
   "execution_count": 6,
   "id": "fe9bed6a",
   "metadata": {},
   "outputs": [],
   "source": [
    "# Read data from CSV file\n",
    "data = pd.read_csv(_data_filepath, encoding=\"ISO-8859-1\")"
   ]
  },
  {
   "cell_type": "code",
   "execution_count": 7,
   "id": "03b20ce1",
   "metadata": {},
   "outputs": [
    {
     "name": "stdout",
     "output_type": "stream",
     "text": [
      "<class 'pandas.core.frame.DataFrame'>\n",
      "RangeIndex: 1497 entries, 0 to 1496\n",
      "Data columns (total 3 columns):\n",
      " #   Column     Non-Null Count  Dtype  \n",
      "---  ------     --------------  -----  \n",
      " 0   text       1497 non-null   object \n",
      " 1   author_id  1497 non-null   float64\n",
      " 2   Label      1497 non-null   object \n",
      "dtypes: float64(1), object(2)\n",
      "memory usage: 35.2+ KB\n"
     ]
    }
   ],
   "source": [
    "data.info()"
   ]
  },
  {
   "cell_type": "code",
   "execution_count": null,
   "id": "2da93fa3",
   "metadata": {},
   "outputs": [],
   "source": []
  },
  {
   "cell_type": "code",
   "execution_count": 8,
   "id": "01d03f3e",
   "metadata": {},
   "outputs": [
    {
     "data": {
      "text/html": [
       "<div>\n",
       "<style scoped>\n",
       "    .dataframe tbody tr th:only-of-type {\n",
       "        vertical-align: middle;\n",
       "    }\n",
       "\n",
       "    .dataframe tbody tr th {\n",
       "        vertical-align: top;\n",
       "    }\n",
       "\n",
       "    .dataframe thead th {\n",
       "        text-align: right;\n",
       "    }\n",
       "</style>\n",
       "<table border=\"1\" class=\"dataframe\">\n",
       "  <thead>\n",
       "    <tr style=\"text-align: right;\">\n",
       "      <th></th>\n",
       "      <th>text</th>\n",
       "      <th>author_id</th>\n",
       "      <th>Label</th>\n",
       "    </tr>\n",
       "  </thead>\n",
       "  <tbody>\n",
       "    <tr>\n",
       "      <th>0</th>\n",
       "      <td>- @aishambuhari ta nemi babban sufeton 'yan sa...</td>\n",
       "      <td>7.970000e+17</td>\n",
       "      <td>neutral</td>\n",
       "    </tr>\n",
       "    <tr>\n",
       "      <th>1</th>\n",
       "      <td>\"Duk dan Bokon da baida Ilimin Addini Annoba n...</td>\n",
       "      <td>2.290470e+09</td>\n",
       "      <td>neutral</td>\n",
       "    </tr>\n",
       "    <tr>\n",
       "      <th>2</th>\n",
       "      <td>\"Duk mutumin da yayi tunanin bawa mutane ilimi...</td>\n",
       "      <td>1.071387e+09</td>\n",
       "      <td>neutral</td>\n",
       "    </tr>\n",
       "    <tr>\n",
       "      <th>3</th>\n",
       "      <td>\"Duk wanda ya sabawa dokar kaucewa kamuwa daga...</td>\n",
       "      <td>1.260000e+18</td>\n",
       "      <td>Positive</td>\n",
       "    </tr>\n",
       "    <tr>\n",
       "      <th>4</th>\n",
       "      <td>\"Duk wanda ya san ya fito daga yankin da ake A...</td>\n",
       "      <td>1.039268e+09</td>\n",
       "      <td>Positive</td>\n",
       "    </tr>\n",
       "  </tbody>\n",
       "</table>\n",
       "</div>"
      ],
      "text/plain": [
       "                                                text     author_id     Label\n",
       "0  - @aishambuhari ta nemi babban sufeton 'yan sa...  7.970000e+17   neutral\n",
       "1  \"Duk dan Bokon da baida Ilimin Addini Annoba n...  2.290470e+09   neutral\n",
       "2  \"Duk mutumin da yayi tunanin bawa mutane ilimi...  1.071387e+09   neutral\n",
       "3  \"Duk wanda ya sabawa dokar kaucewa kamuwa daga...  1.260000e+18  Positive\n",
       "4  \"Duk wanda ya san ya fito daga yankin da ake A...  1.039268e+09  Positive"
      ]
     },
     "execution_count": 8,
     "metadata": {},
     "output_type": "execute_result"
    }
   ],
   "source": [
    "data.head()"
   ]
  },
  {
   "cell_type": "code",
   "execution_count": 9,
   "id": "9c6be05d",
   "metadata": {},
   "outputs": [],
   "source": [
    "# Read stop words\n",
    "stopwords_list = list()\n",
    "\n",
    "with open(_stopwords_filepath) as file:\n",
    "    stopwords_list = [line.strip() for line in file.readlines()]"
   ]
  },
  {
   "cell_type": "code",
   "execution_count": 10,
   "id": "6400176a",
   "metadata": {},
   "outputs": [
    {
     "name": "stdout",
     "output_type": "stream",
     "text": [
      "ta da ya sai ba yi na kuma ma ji cikin in ni wata wani ce tana don za sun amma ga ina ne mai suka wannan a ko lokacin su take shi yake yana ka ban ita tafi\n"
     ]
    }
   ],
   "source": [
    "listToStr = ' '.join([str(word) for word in stopwords_list])\n",
    "print(listToStr)"
   ]
  },
  {
   "cell_type": "code",
   "execution_count": 11,
   "id": "8aa6539c",
   "metadata": {},
   "outputs": [],
   "source": [
    "# Read saved data from disk\n",
    "def load_pickle(filename):\n",
    "    data = joblib.load(filename)\n",
    "    return(data)\n",
    "    \n",
    "# Save data to disk for future use\n",
    "def save_pickle(data, filename):\n",
    "    joblib.dump(data, filename)\n",
    "    return True"
   ]
  },
  {
   "cell_type": "code",
   "execution_count": 12,
   "id": "ef00641c",
   "metadata": {},
   "outputs": [],
   "source": [
    "# removing stopwords\n",
    "def _apply_lowercase(text):\n",
    "    text = [item for item in text if item not in stopwords_list]\n",
    "    text = ''.join(text)\n",
    "    return text\n",
    "\n",
    "# removing stopwords\n",
    "def _stopwords_removal(text):\n",
    "    text = [item for item in text if item not in stopwords_list]\n",
    "    text = ''.join(text)\n",
    "    return text\n",
    "\n",
    "# remove punctuations\n",
    "def _punctuation_removal(text):\n",
    "    all_list = [char for char in text if char not in string.punctuation]\n",
    "    clean_str = ''.join(all_list)\n",
    "    return clean_str\n",
    "\n",
    "# Shuffle dataset\n",
    "def _shuffle_dataset(dataset):\n",
    "    dataset = shuffle(data)\n",
    "    dataset = data.reset_index(drop=True)\n",
    "    return dataset"
   ]
  },
  {
   "cell_type": "code",
   "execution_count": 13,
   "id": "c5f914d3",
   "metadata": {},
   "outputs": [
    {
     "data": {
      "text/html": [
       "<div>\n",
       "<style scoped>\n",
       "    .dataframe tbody tr th:only-of-type {\n",
       "        vertical-align: middle;\n",
       "    }\n",
       "\n",
       "    .dataframe tbody tr th {\n",
       "        vertical-align: top;\n",
       "    }\n",
       "\n",
       "    .dataframe thead th {\n",
       "        text-align: right;\n",
       "    }\n",
       "</style>\n",
       "<table border=\"1\" class=\"dataframe\">\n",
       "  <thead>\n",
       "    <tr style=\"text-align: right;\">\n",
       "      <th></th>\n",
       "      <th>text</th>\n",
       "      <th>author_id</th>\n",
       "      <th>Label</th>\n",
       "    </tr>\n",
       "  </thead>\n",
       "  <tbody>\n",
       "    <tr>\n",
       "      <th>0</th>\n",
       "      <td>ishmbuhri t nemi bbbn sufeton yn snd d y mgnc...</td>\n",
       "      <td>7.970000e+17</td>\n",
       "      <td>neutral</td>\n",
       "    </tr>\n",
       "    <tr>\n",
       "      <th>1</th>\n",
       "      <td>duk dn bokon d bid ilimin ddini nnob ne cikin ...</td>\n",
       "      <td>2.290470e+09</td>\n",
       "      <td>neutral</td>\n",
       "    </tr>\n",
       "    <tr>\n",
       "      <th>2</th>\n",
       "      <td>duk mutumin d yyi tunnin bw mutne ilimi d koy ...</td>\n",
       "      <td>1.071387e+09</td>\n",
       "      <td>neutral</td>\n",
       "    </tr>\n",
       "    <tr>\n",
       "      <th>3</th>\n",
       "      <td>duk wnd y sbw dokr kucew kmuw dg cutr coron zi...</td>\n",
       "      <td>1.260000e+18</td>\n",
       "      <td>positive</td>\n",
       "    </tr>\n",
       "    <tr>\n",
       "      <th>4</th>\n",
       "      <td>duk wnd y sn y fito dg ynkin d ke nnobr coron ...</td>\n",
       "      <td>1.039268e+09</td>\n",
       "      <td>positive</td>\n",
       "    </tr>\n",
       "  </tbody>\n",
       "</table>\n",
       "</div>"
      ],
      "text/plain": [
       "                                                text     author_id     Label\n",
       "0   ishmbuhri t nemi bbbn sufeton yn snd d y mgnc...  7.970000e+17   neutral\n",
       "1  duk dn bokon d bid ilimin ddini nnob ne cikin ...  2.290470e+09   neutral\n",
       "2  duk mutumin d yyi tunnin bw mutne ilimi d koy ...  1.071387e+09   neutral\n",
       "3  duk wnd y sbw dokr kucew kmuw dg cutr coron zi...  1.260000e+18  positive\n",
       "4  duk wnd y sn y fito dg ynkin d ke nnobr coron ...  1.039268e+09  positive"
      ]
     },
     "execution_count": 13,
     "metadata": {},
     "output_type": "execute_result"
    }
   ],
   "source": [
    "# Change string to lower case\n",
    "data['text'] = data['text'].apply(str.lower)\n",
    "\n",
    "# Change label to lower case\n",
    "data['Label'] = data['Label'].apply(str.lower)\n",
    "\n",
    "# remove punctuations or special characters\n",
    "data['text'] = data['text'].apply(_punctuation_removal)\n",
    "\n",
    "# remove stopwords\n",
    "data['text'] = data['text'].apply(_stopwords_removal)\n",
    "\n",
    "# Shuffle the dataset to prevent bias:\n",
    "data = _shuffle_dataset(data)\n",
    "\n",
    "# Print head of the data\n",
    "data.head()"
   ]
  },
  {
   "cell_type": "markdown",
   "id": "1a4dc0aa",
   "metadata": {},
   "source": [
    "### Encode output lalbel"
   ]
  },
  {
   "cell_type": "code",
   "execution_count": 14,
   "id": "252c121f",
   "metadata": {},
   "outputs": [
    {
     "data": {
      "text/html": [
       "<div>\n",
       "<style scoped>\n",
       "    .dataframe tbody tr th:only-of-type {\n",
       "        vertical-align: middle;\n",
       "    }\n",
       "\n",
       "    .dataframe tbody tr th {\n",
       "        vertical-align: top;\n",
       "    }\n",
       "\n",
       "    .dataframe thead th {\n",
       "        text-align: right;\n",
       "    }\n",
       "</style>\n",
       "<table border=\"1\" class=\"dataframe\">\n",
       "  <thead>\n",
       "    <tr style=\"text-align: right;\">\n",
       "      <th></th>\n",
       "      <th>text</th>\n",
       "      <th>author_id</th>\n",
       "      <th>Label</th>\n",
       "      <th>label_encoded</th>\n",
       "    </tr>\n",
       "  </thead>\n",
       "  <tbody>\n",
       "    <tr>\n",
       "      <th>0</th>\n",
       "      <td>ishmbuhri t nemi bbbn sufeton yn snd d y mgnc...</td>\n",
       "      <td>7.970000e+17</td>\n",
       "      <td>neutral</td>\n",
       "      <td>1</td>\n",
       "    </tr>\n",
       "    <tr>\n",
       "      <th>1</th>\n",
       "      <td>duk dn bokon d bid ilimin ddini nnob ne cikin ...</td>\n",
       "      <td>2.290470e+09</td>\n",
       "      <td>neutral</td>\n",
       "      <td>1</td>\n",
       "    </tr>\n",
       "    <tr>\n",
       "      <th>2</th>\n",
       "      <td>duk mutumin d yyi tunnin bw mutne ilimi d koy ...</td>\n",
       "      <td>1.071387e+09</td>\n",
       "      <td>neutral</td>\n",
       "      <td>1</td>\n",
       "    </tr>\n",
       "    <tr>\n",
       "      <th>3</th>\n",
       "      <td>duk wnd y sbw dokr kucew kmuw dg cutr coron zi...</td>\n",
       "      <td>1.260000e+18</td>\n",
       "      <td>positive</td>\n",
       "      <td>2</td>\n",
       "    </tr>\n",
       "    <tr>\n",
       "      <th>4</th>\n",
       "      <td>duk wnd y sn y fito dg ynkin d ke nnobr coron ...</td>\n",
       "      <td>1.039268e+09</td>\n",
       "      <td>positive</td>\n",
       "      <td>2</td>\n",
       "    </tr>\n",
       "  </tbody>\n",
       "</table>\n",
       "</div>"
      ],
      "text/plain": [
       "                                                text     author_id     Label  \\\n",
       "0   ishmbuhri t nemi bbbn sufeton yn snd d y mgnc...  7.970000e+17   neutral   \n",
       "1  duk dn bokon d bid ilimin ddini nnob ne cikin ...  2.290470e+09   neutral   \n",
       "2  duk mutumin d yyi tunnin bw mutne ilimi d koy ...  1.071387e+09   neutral   \n",
       "3  duk wnd y sbw dokr kucew kmuw dg cutr coron zi...  1.260000e+18  positive   \n",
       "4  duk wnd y sn y fito dg ynkin d ke nnobr coron ...  1.039268e+09  positive   \n",
       "\n",
       "   label_encoded  \n",
       "0              1  \n",
       "1              1  \n",
       "2              1  \n",
       "3              2  \n",
       "4              2  "
      ]
     },
     "execution_count": 14,
     "metadata": {},
     "output_type": "execute_result"
    }
   ],
   "source": [
    "# make copy of dataframe\n",
    "data_encoded = data.copy()\n",
    "\n",
    "# create a label encoder\n",
    "label_encoder = LabelEncoder()\n",
    "label_encoder.fit(data_encoded['Label'])\n",
    "\n",
    "data_encoded['label_encoded'] = label_encoder.transform(data_encoded['Label'])\n",
    "\n",
    "data_encoded.head()"
   ]
  },
  {
   "cell_type": "markdown",
   "id": "9fb16d65",
   "metadata": {},
   "source": [
    "### Split Dataset\n",
    "\n",
    "+ Tranining: 70% of the dataset\n",
    "+ Testing: 30% of dataset"
   ]
  },
  {
   "cell_type": "code",
   "execution_count": 15,
   "id": "078ec857",
   "metadata": {},
   "outputs": [
    {
     "data": {
      "text/plain": [
       "((1047,), (450,))"
      ]
     },
     "execution_count": 15,
     "metadata": {},
     "output_type": "execute_result"
    }
   ],
   "source": [
    "list_classes = [\"label_encoded\"]\n",
    "\n",
    "X_train, X_test, Y_train, Y_test = train_test_split(data_encoded[\"text\"], data_encoded[list_classes], test_size=0.3, random_state = 1)\n",
    "\n",
    "Y_train = Y_train.values\n",
    "Y_test = Y_test.values\n",
    "\n",
    "# Show dimension of the comments\n",
    "X_train.shape, X_test.shape"
   ]
  },
  {
   "cell_type": "markdown",
   "id": "eb88c273",
   "metadata": {},
   "source": [
    "### Tokenize Sentences"
   ]
  },
  {
   "cell_type": "markdown",
   "id": "32ba027e",
   "metadata": {},
   "source": [
    "To be able to train our model with a text data, we'd have to convert it into number form, for this we're going to use the Tokenizer module from Keras.preprocessing library"
   ]
  },
  {
   "cell_type": "code",
   "execution_count": 16,
   "id": "5fce9302",
   "metadata": {},
   "outputs": [],
   "source": [
    "list_sentences_train = X_train.values\n",
    "list_sentences_test = X_test.values"
   ]
  },
  {
   "cell_type": "code",
   "execution_count": 17,
   "id": "0188ca71",
   "metadata": {},
   "outputs": [],
   "source": [
    "tokenizer = Tokenizer(lower=True)\n",
    "\n",
    "tokenizer.fit_on_texts(list(list_sentences_train))\n",
    "list_tokenized_train = tokenizer.texts_to_sequences(list_sentences_train)\n",
    "list_tokenized_test = tokenizer.texts_to_sequences(list_sentences_test)"
   ]
  },
  {
   "cell_type": "code",
   "execution_count": 18,
   "id": "b1cfc3c4",
   "metadata": {},
   "outputs": [
    {
     "data": {
      "text/plain": [
       "5593"
      ]
     },
     "execution_count": 18,
     "metadata": {},
     "output_type": "execute_result"
    }
   ],
   "source": [
    "# size of training vocabulary (number of unique words)\n",
    "vocab_size = len(tokenizer.word_index) + 1\n",
    "vocab_size"
   ]
  },
  {
   "cell_type": "code",
   "execution_count": 19,
   "id": "32be4f77",
   "metadata": {},
   "outputs": [
    {
     "name": "stdout",
     "output_type": "stream",
     "text": [
      "[56, 931, 542, 1, 43, 178, 1, 945, 29, 3794, 1, 13, 23, 85, 9, 18, 49, 148, 342, 11, 102, 3795, 3796, 1, 3797, 696, 3798, 3799, 36, 281, 1077, 181, 486, 3800]\n"
     ]
    }
   ],
   "source": [
    "# print out a random sequence of text from the tokenized training data\n",
    "print(random.choice(list_tokenized_train))"
   ]
  },
  {
   "cell_type": "code",
   "execution_count": 20,
   "id": "5f29ca5d",
   "metadata": {},
   "outputs": [
    {
     "name": "stdout",
     "output_type": "stream",
     "text": [
      "1047 train sequences\n",
      "450 test sequences\n",
      "Average train sequence length: 21\n",
      "Average test sequence length: 17\n"
     ]
    }
   ],
   "source": [
    "print(len(list_tokenized_train), 'train sequences')\n",
    "print(len(list_tokenized_test), 'test sequences')\n",
    "\n",
    "print('Average train sequence length: {}'.format(np.mean(list(map(len, list_tokenized_train)), dtype=int)))\n",
    "print('Average test sequence length: {}'.format(np.mean(list(map(len, list_tokenized_test)), dtype=int)))"
   ]
  },
  {
   "cell_type": "markdown",
   "id": "e5d97b93",
   "metadata": {},
   "source": [
    "## Pad tokenized Sentences"
   ]
  },
  {
   "cell_type": "markdown",
   "id": "0fb53a50",
   "metadata": {},
   "source": [
    "You might have observed that the sentences are not of the same lengths, so we need to pad them with zeros (0's) so that the resulting array will have equal length.\n",
    "\n",
    "We'd use `text` module from `keras.preprocessing` library"
   ]
  },
  {
   "cell_type": "markdown",
   "id": "3d59aad7",
   "metadata": {},
   "source": [
    "We'd use a max character of 300"
   ]
  },
  {
   "cell_type": "code",
   "execution_count": 21,
   "id": "8909766f",
   "metadata": {},
   "outputs": [],
   "source": [
    "maxlen = 300\n",
    "X_train = pad_sequences(list_tokenized_train, maxlen=maxlen)\n",
    "X_test = pad_sequences(list_tokenized_test, maxlen=maxlen)"
   ]
  },
  {
   "cell_type": "code",
   "execution_count": 22,
   "id": "34cc8bcc",
   "metadata": {},
   "outputs": [
    {
     "name": "stdout",
     "output_type": "stream",
     "text": [
      "[[   0    0    0    0    0    0    0    0    0    0    0    0    0    0\n",
      "     0    0    0    0    0    0    0    0    0    0    0    0    0    0\n",
      "     0    0    0    0    0    0    0    0    0    0    0    0    0    0\n",
      "     0    0    0    0    0    0    0    0    0    0    0    0    0    0\n",
      "     0    0    0    0    0    0    0    0    0    0    0    0    0    0\n",
      "     0    0    0    0    0    0    0    0    0    0    0    0    0    0\n",
      "     0    0    0    0    0    0    0    0    0    0    0    0    0    0\n",
      "     0    0    0    0    0    0    0    0    0    0    0    0    0    0\n",
      "     0    0    0    0    0    0    0    0    0    0    0    0    0    0\n",
      "     0    0    0    0    0    0    0    0    0    0    0    0    0    0\n",
      "     0    0    0    0    0    0    0    0    0    0    0    0    0    0\n",
      "     0    0    0    0    0    0    0    0    0    0    0    0    0    0\n",
      "     0    0    0    0    0    0    0    0    0    0    0    0    0    0\n",
      "     0    0    0    0    0    0    0    0    0    0    0    0    0    0\n",
      "     0    0    0    0    0    0    0    0    0    0    0    0    0    0\n",
      "     0    0    0    0    0    0    0    0    0    0    0    0    0    0\n",
      "     0    0    0    0    0    0    0    0    0    0    0    0    0    0\n",
      "     0    0    0    0    0    0    0    0    0    0    0    0    0    0\n",
      "     0    0    0    0    0    0    0    0    0    0    0    0    0    0\n",
      "     0    0    0    0    0    0    0    0    0    0    0    0    0    0\n",
      "     0   60 1796  365  330 1797  331  302  150  408  666  837 1798  549\n",
      "    23    4    7    1  269 1799]]\n"
     ]
    }
   ],
   "source": [
    "print(X_train[:1])"
   ]
  },
  {
   "cell_type": "markdown",
   "id": "731bc39d",
   "metadata": {},
   "source": [
    "## Use pre-trained Word Embedding"
   ]
  },
  {
   "cell_type": "code",
   "execution_count": 23,
   "id": "6fcae41f",
   "metadata": {},
   "outputs": [],
   "source": [
    "# load saved genism model from disk\n",
    "model_sg = Word2Vec.load(_embedding_model_filepath)\n",
    "\n",
    "# load saved numpy vectors from disk\n",
    "vectors = np.load(_pretrained_vectors_filepath)\n",
    "\n",
    "# load a saved trainable numpy vectors from disk\n",
    "vectors_neg = np.load(_neg_vectors_filepath)"
   ]
  },
  {
   "cell_type": "code",
   "execution_count": null,
   "id": "a851079b",
   "metadata": {},
   "outputs": [],
   "source": [
    "model_sg"
   ]
  },
  {
   "cell_type": "code",
   "execution_count": 24,
   "id": "cda3f4fd",
   "metadata": {},
   "outputs": [],
   "source": [
    "# get vocabularies from saved model\n",
    "vocabs = list()\n",
    "\n",
    "for word, vocab_obj in model_sg.wv.vocab.items():\n",
    "    vocabs.append(word)\n",
    "\n",
    "# delete unused variables to free memory\n",
    "del((word, vocab_obj))"
   ]
  },
  {
   "cell_type": "code",
   "execution_count": 25,
   "id": "a8564ddf",
   "metadata": {},
   "outputs": [
    {
     "data": {
      "text/plain": [
       "(90451, 90451, 90451)"
      ]
     },
     "execution_count": 25,
     "metadata": {},
     "output_type": "execute_result"
    }
   ],
   "source": [
    "# Check length of vectors\n",
    "len(vectors), len(vectors_neg), len(vocabs)"
   ]
  },
  {
   "cell_type": "code",
   "execution_count": 26,
   "id": "7a5a54e7",
   "metadata": {},
   "outputs": [],
   "source": [
    "# create word embedding dictionary\n",
    "embeddings = dict()\n",
    "\n",
    "# zip words and their corresponding vectors\n",
    "for i, (word,vector) in enumerate(zip(vocabs, vectors)):\n",
    "    embeddings[word] = vector\n",
    "    \n",
    "# delete unused variables to free memory\n",
    "del((i, word, vector))"
   ]
  },
  {
   "cell_type": "code",
   "execution_count": 27,
   "id": "882350c3",
   "metadata": {},
   "outputs": [
    {
     "name": "stdout",
     "output_type": "stream",
     "text": [
      "Converted 1076 words (4516 misses)\n"
     ]
    }
   ],
   "source": [
    "num_tokens = vocab_size\n",
    "embedding_dim = 300\n",
    "hits = 0\n",
    "misses = 0\n",
    "\n",
    "\n",
    "# create a weight matrix for words in training docs\n",
    "embedding_matrix = np.zeros((vocab_size, 300))\n",
    "\n",
    "for word, i in tokenizer.word_index.items():\n",
    "    embedding_vector = embeddings.get(word)\n",
    "    \n",
    "    if embedding_vector is not None:\n",
    "        # Words not found in embedding index will be all-zeros.\n",
    "        # This includes the representation for \"padding\" and \"OOV\"\n",
    "        embedding_matrix[i] = embedding_vector\n",
    "        hits += 1\n",
    "    else:\n",
    "        misses += 1\n",
    "        \n",
    "print(\"Converted %d words (%d misses)\" % (hits, misses))"
   ]
  },
  {
   "cell_type": "markdown",
   "id": "af7e3bb3",
   "metadata": {},
   "source": [
    "## Build Model"
   ]
  },
  {
   "cell_type": "code",
   "execution_count": 28,
   "id": "f8cb21cd",
   "metadata": {},
   "outputs": [],
   "source": [
    "model = Sequential()"
   ]
  },
  {
   "cell_type": "code",
   "execution_count": 29,
   "id": "126fcf84",
   "metadata": {},
   "outputs": [
    {
     "name": "stdout",
     "output_type": "stream",
     "text": [
      "WARNING:tensorflow:Please add `keras.layers.InputLayer` instead of `keras.Input` to Sequential model. `keras.Input` is intended to be used by Functional model.\n"
     ]
    }
   ],
   "source": [
    "model.add(Input(shape=(maxlen, )))"
   ]
  },
  {
   "cell_type": "code",
   "execution_count": 30,
   "id": "27415b4c",
   "metadata": {},
   "outputs": [],
   "source": [
    "embed_size = 300\n",
    "model.add(Embedding(vocab_size, embed_size, weights=[embedding_matrix], trainable=False))"
   ]
  },
  {
   "cell_type": "code",
   "execution_count": 31,
   "id": "8f7b256b",
   "metadata": {},
   "outputs": [],
   "source": [
    "model.add(LSTM(60, return_sequences=True,name='lstm_layer'))"
   ]
  },
  {
   "cell_type": "code",
   "execution_count": 32,
   "id": "f4db9d71",
   "metadata": {},
   "outputs": [],
   "source": [
    "model.add(GlobalMaxPool1D())"
   ]
  },
  {
   "cell_type": "code",
   "execution_count": 33,
   "id": "deb5256f",
   "metadata": {},
   "outputs": [],
   "source": [
    "model.add(Dropout(0.1))"
   ]
  },
  {
   "cell_type": "code",
   "execution_count": 34,
   "id": "694a3b36",
   "metadata": {},
   "outputs": [],
   "source": [
    "model.add(Dense(50, activation=\"relu\"))"
   ]
  },
  {
   "cell_type": "code",
   "execution_count": 35,
   "id": "41ba4428",
   "metadata": {},
   "outputs": [],
   "source": [
    "model.add(Dropout(0.1))"
   ]
  },
  {
   "cell_type": "code",
   "execution_count": 36,
   "id": "d2017706",
   "metadata": {},
   "outputs": [],
   "source": [
    "model.add(Dense(3, activation=\"softmax\"))"
   ]
  },
  {
   "cell_type": "code",
   "execution_count": 37,
   "id": "503665e4",
   "metadata": {},
   "outputs": [],
   "source": [
    "model.compile(loss='sparse_categorical_crossentropy',\n",
    "                  optimizer='adam',\n",
    "                  metrics=['accuracy'])"
   ]
  },
  {
   "cell_type": "code",
   "execution_count": 38,
   "id": "1621de8a",
   "metadata": {},
   "outputs": [
    {
     "name": "stdout",
     "output_type": "stream",
     "text": [
      "Model: \"sequential\"\n",
      "_________________________________________________________________\n",
      "Layer (type)                 Output Shape              Param #   \n",
      "=================================================================\n",
      "embedding (Embedding)        (None, 300, 300)          1677900   \n",
      "_________________________________________________________________\n",
      "lstm_layer (LSTM)            (None, 300, 60)           86640     \n",
      "_________________________________________________________________\n",
      "global_max_pooling1d (Global (None, 60)                0         \n",
      "_________________________________________________________________\n",
      "dropout (Dropout)            (None, 60)                0         \n",
      "_________________________________________________________________\n",
      "dense (Dense)                (None, 50)                3050      \n",
      "_________________________________________________________________\n",
      "dropout_1 (Dropout)          (None, 50)                0         \n",
      "_________________________________________________________________\n",
      "dense_1 (Dense)              (None, 3)                 153       \n",
      "=================================================================\n",
      "Total params: 1,767,743\n",
      "Trainable params: 89,843\n",
      "Non-trainable params: 1,677,900\n",
      "_________________________________________________________________\n"
     ]
    }
   ],
   "source": [
    "model.summary()"
   ]
  },
  {
   "cell_type": "markdown",
   "id": "00bf9bfe",
   "metadata": {},
   "source": [
    "### Create plot for model architecture"
   ]
  },
  {
   "cell_type": "code",
   "execution_count": 39,
   "id": "000d9476",
   "metadata": {},
   "outputs": [
    {
     "data": {
      "image/png": "[encoded data removed]",
      "text/plain": [
       "<IPython.core.display.Image object>"
      ]
     },
     "execution_count": 39,
     "metadata": {},
     "output_type": "execute_result"
    }
   ],
   "source": [
    "# Plot model\n",
    "dot_img_file = 'model_1.png'\n",
    "tf.keras.utils.plot_model(model, to_file=dot_img_file,\n",
    "                          show_shapes=True,\n",
    "                          show_layer_names=True,\n",
    "                          rankdir=\"TB\",\n",
    "                          expand_nested=True,\n",
    "                          dpi=96\n",
    "                         )"
   ]
  },
  {
   "cell_type": "markdown",
   "id": "3e8c8470",
   "metadata": {},
   "source": [
    "### Train model"
   ]
  },
  {
   "cell_type": "code",
   "execution_count": 40,
   "id": "71bf72f6",
   "metadata": {},
   "outputs": [],
   "source": [
    "# saving training history\n",
    "csv_logger = CSVLogger('training.log', separator=',', append=False)"
   ]
  },
  {
   "cell_type": "code",
   "execution_count": 41,
   "id": "0170c26c",
   "metadata": {},
   "outputs": [
    {
     "name": "stdout",
     "output_type": "stream",
     "text": [
      "Epoch 1/10\n",
      "66/66 [==============================] - 22s 132ms/step - loss: 0.9460 - accuracy: 0.5855 - val_loss: 0.8824 - val_accuracy: 0.6067\n",
      "Epoch 2/10\n",
      "66/66 [==============================] - 8s 114ms/step - loss: 0.8683 - accuracy: 0.6055 - val_loss: 0.8422 - val_accuracy: 0.5978\n",
      "Epoch 3/10\n",
      "66/66 [==============================] - 8s 124ms/step - loss: 0.8372 - accuracy: 0.6094 - val_loss: 0.8217 - val_accuracy: 0.6444\n",
      "Epoch 4/10\n",
      "66/66 [==============================] - 8s 117ms/step - loss: 0.7925 - accuracy: 0.6313 - val_loss: 0.8178 - val_accuracy: 0.6111\n",
      "Epoch 5/10\n",
      "66/66 [==============================] - 8s 120ms/step - loss: 0.7584 - accuracy: 0.6667 - val_loss: 0.8014 - val_accuracy: 0.6489\n",
      "Epoch 6/10\n",
      "66/66 [==============================] - 8s 114ms/step - loss: 0.7159 - accuracy: 0.6829 - val_loss: 0.8084 - val_accuracy: 0.6422\n",
      "Epoch 7/10\n",
      "66/66 [==============================] - 7s 110ms/step - loss: 0.6742 - accuracy: 0.7135 - val_loss: 0.8366 - val_accuracy: 0.6467\n",
      "Epoch 8/10\n",
      "66/66 [==============================] - 7s 112ms/step - loss: 0.6443 - accuracy: 0.7106 - val_loss: 0.8087 - val_accuracy: 0.6311\n",
      "Epoch 9/10\n",
      "66/66 [==============================] - 7s 109ms/step - loss: 0.6008 - accuracy: 0.7354 - val_loss: 0.8242 - val_accuracy: 0.6022\n",
      "Epoch 10/10\n",
      "66/66 [==============================] - 8s 115ms/step - loss: 0.5387 - accuracy: 0.7899 - val_loss: 0.8962 - val_accuracy: 0.6356\n"
     ]
    }
   ],
   "source": [
    "batch_size = 16\n",
    "epochs = 10\n",
    "history = model.fit(X_train, Y_train, batch_size=batch_size, epochs=epochs, \n",
    "                    validation_data=(X_test, Y_test), callbacks=[csv_logger])"
   ]
  },
  {
   "cell_type": "markdown",
   "id": "df02ca4a",
   "metadata": {},
   "source": [
    "### Evaluate model"
   ]
  },
  {
   "cell_type": "code",
   "execution_count": 42,
   "id": "70f3014f",
   "metadata": {},
   "outputs": [
    {
     "name": "stdout",
     "output_type": "stream",
     "text": [
      "15/15 [==============================] - 1s 81ms/step - loss: 0.8962 - accuracy: 0.6356\n",
      "score: 0.8962\n",
      "acc: 0.6356\n"
     ]
    }
   ],
   "source": [
    "score, accuracy = model.evaluate(X_test, Y_test, verbose = 1, batch_size = 32)\n",
    "print(\"score: %.4f\" % (score))\n",
    "print(\"acc: %.4f\" % (accuracy))"
   ]
  },
  {
   "cell_type": "code",
   "execution_count": 43,
   "id": "02ccf56d",
   "metadata": {},
   "outputs": [
    {
     "name": "stdout",
     "output_type": "stream",
     "text": [
      "15/15 [==============================] - 2s 71ms/step\n",
      "sample of probabilistic predictions: \n",
      " [[0.08023801 0.36845633 0.55130565]\n",
      " [0.13119084 0.4142171  0.4545921 ]]\n"
     ]
    }
   ],
   "source": [
    "y_pred = model.predict(X_test, batch_size=32, verbose=1)\n",
    "\n",
    "print(\"sample of probabilistic predictions: \\n {}\".format(y_pred[:2]))"
   ]
  },
  {
   "cell_type": "code",
   "execution_count": 44,
   "id": "fa13110d",
   "metadata": {},
   "outputs": [
    {
     "name": "stdout",
     "output_type": "stream",
     "text": [
      "sample of y_pred: \n",
      " [2 2]\n"
     ]
    }
   ],
   "source": [
    "# map classes to results\n",
    "predictions = np.argmax(y_pred, axis=1)\n",
    "print(\"sample of y_pred: \\n {}\".format(predictions[:2]))"
   ]
  },
  {
   "cell_type": "code",
   "execution_count": 45,
   "id": "10f5ea9d",
   "metadata": {},
   "outputs": [
    {
     "name": "stdout",
     "output_type": "stream",
     "text": [
      "Precision: 0.6356, Recall: 0.6356, F1-measure: 0.6356, Accuracy: 0.6356\n"
     ]
    }
   ],
   "source": [
    "precision = precision_score(Y_test, predictions, average='micro')\n",
    "recall = recall_score(Y_test, predictions, average='micro')\n",
    "f1 = f1_score(Y_test, predictions, average='micro')\n",
    "accuracy = accuracy_score(Y_test, predictions, normalize=True)\n",
    "print(\"Precision: {:.4f}, Recall: {:.4f}, F1-measure: {:.4f}, Accuracy: {:.4f}\".format(precision, recall, f1, accuracy))"
   ]
  },
  {
   "cell_type": "code",
   "execution_count": 46,
   "id": "4073bba8",
   "metadata": {},
   "outputs": [
    {
     "data": {
      "text/html": [
       "<div>\n",
       "<style scoped>\n",
       "    .dataframe tbody tr th:only-of-type {\n",
       "        vertical-align: middle;\n",
       "    }\n",
       "\n",
       "    .dataframe tbody tr th {\n",
       "        vertical-align: top;\n",
       "    }\n",
       "\n",
       "    .dataframe thead th {\n",
       "        text-align: right;\n",
       "    }\n",
       "</style>\n",
       "<table border=\"1\" class=\"dataframe\">\n",
       "  <thead>\n",
       "    <tr style=\"text-align: right;\">\n",
       "      <th></th>\n",
       "      <th>epoch</th>\n",
       "      <th>accuracy</th>\n",
       "      <th>loss</th>\n",
       "      <th>val_accuracy</th>\n",
       "      <th>val_loss</th>\n",
       "    </tr>\n",
       "  </thead>\n",
       "  <tbody>\n",
       "    <tr>\n",
       "      <th>0</th>\n",
       "      <td>0</td>\n",
       "      <td>0.585482</td>\n",
       "      <td>0.945971</td>\n",
       "      <td>0.606667</td>\n",
       "      <td>0.882430</td>\n",
       "    </tr>\n",
       "    <tr>\n",
       "      <th>1</th>\n",
       "      <td>1</td>\n",
       "      <td>0.605540</td>\n",
       "      <td>0.868293</td>\n",
       "      <td>0.597778</td>\n",
       "      <td>0.842232</td>\n",
       "    </tr>\n",
       "    <tr>\n",
       "      <th>2</th>\n",
       "      <td>2</td>\n",
       "      <td>0.609360</td>\n",
       "      <td>0.837169</td>\n",
       "      <td>0.644444</td>\n",
       "      <td>0.821724</td>\n",
       "    </tr>\n",
       "    <tr>\n",
       "      <th>3</th>\n",
       "      <td>3</td>\n",
       "      <td>0.631328</td>\n",
       "      <td>0.792518</td>\n",
       "      <td>0.611111</td>\n",
       "      <td>0.817819</td>\n",
       "    </tr>\n",
       "    <tr>\n",
       "      <th>4</th>\n",
       "      <td>4</td>\n",
       "      <td>0.666667</td>\n",
       "      <td>0.758444</td>\n",
       "      <td>0.648889</td>\n",
       "      <td>0.801447</td>\n",
       "    </tr>\n",
       "  </tbody>\n",
       "</table>\n",
       "</div>"
      ],
      "text/plain": [
       "   epoch  accuracy      loss  val_accuracy  val_loss\n",
       "0      0  0.585482  0.945971      0.606667  0.882430\n",
       "1      1  0.605540  0.868293      0.597778  0.842232\n",
       "2      2  0.609360  0.837169      0.644444  0.821724\n",
       "3      3  0.631328  0.792518      0.611111  0.817819\n",
       "4      4  0.666667  0.758444      0.648889  0.801447"
      ]
     },
     "execution_count": 46,
     "metadata": {},
     "output_type": "execute_result"
    }
   ],
   "source": [
    "# Load training history\n",
    "history = pd.read_csv('training.log', sep=',', engine='python')\n",
    "\n",
    "history.head()"
   ]
  },
  {
   "cell_type": "markdown",
   "id": "26ad5bdc",
   "metadata": {},
   "source": [
    "## Plot Model Accuracy & Loss"
   ]
  },
  {
   "cell_type": "code",
   "execution_count": 47,
   "id": "70a4913e",
   "metadata": {},
   "outputs": [
    {
     "data": {
      "image/png": "[encoded data removed]",
      "text/plain": [
       "<Figure size 432x288 with 1 Axes>"
      ]
     },
     "metadata": {
      "needs_background": "light"
     },
     "output_type": "display_data"
    },
    {
     "data": {
      "image/png": "[encoded data removed]",
      "text/plain": [
       "<Figure size 432x288 with 1 Axes>"
      ]
     },
     "metadata": {
      "needs_background": "light"
     },
     "output_type": "display_data"
    }
   ],
   "source": [
    "# plot history for accuracy\n",
    "plt.plot(history[ 'accuracy' ])\n",
    "plt.plot(history[ 'val_accuracy' ])\n",
    "plt.title( 'model accuracy' )\n",
    "plt.ylabel( 'accuracy' )\n",
    "plt.xlabel( 'epoch' )\n",
    "plt.legend([ 'train' , 'test' ], loc= 'lower right' )\n",
    "plt.show()\n",
    "\n",
    "# plot history for accuracy\n",
    "plt.plot(history[ 'loss' ])\n",
    "plt.plot(history[ 'val_loss' ])\n",
    "plt.title( 'model loss' )\n",
    "plt.ylabel( 'loss' )\n",
    "plt.xlabel( 'epoch' )\n",
    "plt.legend([ 'train' , 'test' ], loc= 'upper left' )\n",
    "plt.show()"
   ]
  },
  {
   "cell_type": "markdown",
   "id": "d7d110e7",
   "metadata": {},
   "source": [
    "## Confusion Matrix"
   ]
  },
  {
   "cell_type": "code",
   "execution_count": 48,
   "id": "8a3b3c6a",
   "metadata": {},
   "outputs": [],
   "source": [
    "cnf_matrix = confusion_matrix(Y_test, predictions)\n",
    "\n",
    "FP = cnf_matrix.sum(axis=0) - np.diag(cnf_matrix)  \n",
    "FN = cnf_matrix.sum(axis=1) - np.diag(cnf_matrix)\n",
    "TP = np.diag(cnf_matrix)\n",
    "TN = cnf_matrix.sum() - (FP + FN + TP)\n",
    "\n",
    "FP = FP.astype(float)\n",
    "FN = FN.astype(float)\n",
    "TP = TP.astype(float)\n",
    "TN = TN.astype(float)\n",
    "\n",
    "# Sensitivity, hit rate, recall, or true positive rate\n",
    "TPR = TP/(TP+FN)\n",
    "# Specificity or true negative rate\n",
    "TNR = TN/(TN+FP) \n",
    "# Precision or positive predictive value\n",
    "PPV = TP/(TP+FP)\n",
    "# Negative predictive value\n",
    "NPV = TN/(TN+FN)\n",
    "# Fall out or false positive rate\n",
    "FPR = FP/(FP+TN)\n",
    "# False negative rate\n",
    "FNR = FN/(TP+FN)\n",
    "# False discovery rate\n",
    "FDR = FP/(TP+FP)\n",
    "# Overall accuracy\n",
    "ACC = (TP+TN)/(TP+FP+FN+TN)"
   ]
  },
  {
   "cell_type": "code",
   "execution_count": 49,
   "id": "27b17fc8",
   "metadata": {},
   "outputs": [
    {
     "name": "stdout",
     "output_type": "stream",
     "text": [
      "[  3.  40. 243.] [  7.  31. 126.] [398. 287.  51.] [42. 92. 30.]\n",
      "[0.06666667 0.3030303  0.89010989] [0.98271605 0.90251572 0.28813559] [0.3        0.56338028 0.65853659] [0.90454545 0.75725594 0.62962963] [0.01728395 0.09748428 0.71186441] [0.93333333 0.6969697  0.10989011] [0.7        0.43661972 0.34146341] [0.89111111 0.72666667 0.65333333]\n"
     ]
    }
   ],
   "source": [
    "print(TP, FP, TN, FN)\n",
    "print(TPR, TNR, PPV, NPV, FPR, FNR, FDR, ACC)"
   ]
  },
  {
   "cell_type": "markdown",
   "id": "c3663f14",
   "metadata": {},
   "source": [
    "## Plot ROC Curve"
   ]
  },
  {
   "cell_type": "code",
   "execution_count": 50,
   "id": "aace64e0",
   "metadata": {},
   "outputs": [
    {
     "data": {
      "image/png": "[encoded data removed]",
      "text/plain": [
       "<Figure size 432x288 with 1 Axes>"
      ]
     },
     "metadata": {
      "needs_background": "light"
     },
     "output_type": "display_data"
    }
   ],
   "source": [
    "# plt.plot(FPR, TPR, linestyle='--', label='No Skill')\n",
    "plt.plot(FPR, TPR, marker='.', label='LSTM')\n",
    "\n",
    "# axis labels\n",
    "plt.xlabel('False Positive Rate')\n",
    "plt.ylabel('True Positive Rate')\n",
    "# show the legend\n",
    "plt.legend()\n",
    "# show the plot\n",
    "plt.show()"
   ]
  },
  {
   "cell_type": "code",
   "execution_count": null,
   "id": "92438f1e",
   "metadata": {},
   "outputs": [],
   "source": []
  }
 ],
 "metadata": {
  "kernelspec": {
   "display_name": "Python 3 (ipykernel)",
   "language": "python",
   "name": "python3"
  },
  "language_info": {
   "codemirror_mode": {
    "name": "ipython",
    "version": 3
   },
   "file_extension": ".py",
   "mimetype": "text/x-python",
   "name": "python",
   "nbconvert_exporter": "python",
   "pygments_lexer": "ipython3",
   "version": "3.7.8"
  }
 },
 "nbformat": 4,
 "nbformat_minor": 5
}
