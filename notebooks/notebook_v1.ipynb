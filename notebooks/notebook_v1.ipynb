{
 "cells": [
  {
   "cell_type": "code",
   "execution_count": 1,
   "id": "b3fc097b",
   "metadata": {},
   "outputs": [],
   "source": [
    "#!/usr/bin/env python3\n",
    "# -*- coding: utf-8 -*-"
   ]
  },
  {
   "cell_type": "markdown",
   "id": "6cd4cad8",
   "metadata": {},
   "source": [
    "## Import relevant libraries"
   ]
  },
  {
   "cell_type": "code",
   "execution_count": 80,
   "id": "7680b9a9",
   "metadata": {},
   "outputs": [
    {
     "name": "stdout",
     "output_type": "stream",
     "text": [
      "Created `%t` as an alias for `%timeit`.\n",
      "Created `%%t` as an alias for `%%timeit`.\n"
     ]
    }
   ],
   "source": [
    "# core system imports\n",
    "import os\n",
    "\n",
    "import numpy as np, pandas as pd\n",
    "import matplotlib.pyplot as plt\n",
    "import tensorflow as tf\n",
    "import string\n",
    "import random\n",
    "import joblib\n",
    "import itertools\n",
    "\n",
    "from timeit import timeit\n",
    "from unidecode import unidecode\n",
    "import matplotlib.pyplot as plt\n",
    "\n",
    "from gensim.models import Word2Vec\n",
    "\n",
    "import tensorflow as tf\n",
    "from tensorflow.keras.preprocessing.text import Tokenizer\n",
    "from tensorflow.keras.preprocessing.sequence import pad_sequences\n",
    "from tensorflow.keras.layers import (\n",
    "    Dense, \n",
    "    Input, \n",
    "    LSTM, \n",
    "    Embedding, \n",
    "    Dropout, \n",
    "    GlobalMaxPool1D\n",
    ")\n",
    "from tensorflow.keras.models import Sequential\n",
    "\n",
    "from sklearn.utils import shuffle\n",
    "from sklearn.model_selection import train_test_split\n",
    "from sklearn.preprocessing import LabelEncoder\n",
    "from sklearn.metrics import (\n",
    "    f1_score,\n",
    "    precision_score,\n",
    "    recall_score,\n",
    "    accuracy_score,\n",
    "    precision_recall_fscore_support\n",
    ")\n",
    "\n",
    "# Matplotlib config\n",
    "%matplotlib inline\n",
    "%alias_magic t timeit\n"
   ]
  },
  {
   "cell_type": "code",
   "execution_count": 81,
   "id": "aad9ccbb",
   "metadata": {},
   "outputs": [
    {
     "name": "stdout",
     "output_type": "stream",
     "text": [
      "Num GPUs Available:  1\n"
     ]
    }
   ],
   "source": [
    "# check for available GPU\n",
    "print(\"Num GPUs Available: \", len(tf.config.experimental.list_physical_devices('GPU')))"
   ]
  },
  {
   "cell_type": "code",
   "execution_count": 82,
   "id": "4fe767c6",
   "metadata": {},
   "outputs": [],
   "source": [
    "# Location of the pipeline metadata store\n",
    "_pipeline_root = '../pipeline/'\n",
    "\n",
    "# Directory of the raw data files\n",
    "_data_root = '../input/'\n",
    "\n",
    "# Directory of the pretrained word embeddings\n",
    "_embedding_root = '../input/embeddings'\n",
    "\n",
    "_data_filepath = os.path.join(_data_root, \"data.csv\")\n",
    "\n",
    "_stopwords_filepath = os.path.join(_data_root, \"stopwords.txt\")\n",
    "\n",
    "_embedding_model_filepath = os.path.join(_embedding_root, \"model_sg\")\n",
    "_pretrained_vectors_filepath = os.path.join(_embedding_root, \"model_sg.wv.vectors.npy\")\n",
    "_neg_vectors_filepath = os.path.join(_embedding_root, \"model_sg.trainables.syn1neg.npy\")\n"
   ]
  },
  {
   "cell_type": "code",
   "execution_count": 83,
   "id": "c70a3c84",
   "metadata": {},
   "outputs": [
    {
     "name": "stdout",
     "output_type": "stream",
     "text": [
      "['model_sg', 'model_sg.trainables.syn1neg.npy', 'model_sg.wv.vectors.npy']\n"
     ]
    }
   ],
   "source": [
    "# List input datasets in directory\n",
    "os.listdir(_data_root)\n",
    "\n",
    "# Word embeddings\n",
    "print(os.listdir(_embedding_root))"
   ]
  },
  {
   "cell_type": "markdown",
   "id": "a9e4fecb",
   "metadata": {},
   "source": [
    "## Load training and test data"
   ]
  },
  {
   "cell_type": "code",
   "execution_count": 97,
   "id": "fe9bed6a",
   "metadata": {},
   "outputs": [],
   "source": [
    "# Read data from CSV file\n",
    "data = pd.read_csv(_data_filepath)"
   ]
  },
  {
   "cell_type": "code",
   "execution_count": 98,
   "id": "03b20ce1",
   "metadata": {},
   "outputs": [
    {
     "name": "stdout",
     "output_type": "stream",
     "text": [
      "<class 'pandas.core.frame.DataFrame'>\n",
      "RangeIndex: 99 entries, 0 to 98\n",
      "Data columns (total 3 columns):\n",
      " #   Column     Non-Null Count  Dtype  \n",
      "---  ------     --------------  -----  \n",
      " 0   text       99 non-null     object \n",
      " 1   author_id  99 non-null     float64\n",
      " 2   Label      99 non-null     object \n",
      "dtypes: float64(1), object(2)\n",
      "memory usage: 2.4+ KB\n"
     ]
    }
   ],
   "source": [
    "data.info()"
   ]
  },
  {
   "cell_type": "code",
   "execution_count": null,
   "id": "92555e41",
   "metadata": {},
   "outputs": [],
   "source": []
  },
  {
   "cell_type": "code",
   "execution_count": 99,
   "id": "01d03f3e",
   "metadata": {},
   "outputs": [
    {
     "data": {
      "text/html": [
       "<div>\n",
       "<style scoped>\n",
       "    .dataframe tbody tr th:only-of-type {\n",
       "        vertical-align: middle;\n",
       "    }\n",
       "\n",
       "    .dataframe tbody tr th {\n",
       "        vertical-align: top;\n",
       "    }\n",
       "\n",
       "    .dataframe thead th {\n",
       "        text-align: right;\n",
       "    }\n",
       "</style>\n",
       "<table border=\"1\" class=\"dataframe\">\n",
       "  <thead>\n",
       "    <tr style=\"text-align: right;\">\n",
       "      <th></th>\n",
       "      <th>text</th>\n",
       "      <th>author_id</th>\n",
       "      <th>Label</th>\n",
       "    </tr>\n",
       "  </thead>\n",
       "  <tbody>\n",
       "    <tr>\n",
       "      <th>0</th>\n",
       "      <td>- @aishambuhari ta nemi babban sufeton 'yan sa...</td>\n",
       "      <td>7.970000e+17</td>\n",
       "      <td>Neutral</td>\n",
       "    </tr>\n",
       "    <tr>\n",
       "      <th>1</th>\n",
       "      <td>\"Duk dan Bokon da baida Ilimin Addini Annoba n...</td>\n",
       "      <td>2.290470e+09</td>\n",
       "      <td>Neutral</td>\n",
       "    </tr>\n",
       "    <tr>\n",
       "      <th>2</th>\n",
       "      <td>\"Duk mutumin da yayi tunanin bawa mutane ilimi...</td>\n",
       "      <td>1.071387e+09</td>\n",
       "      <td>Neutral</td>\n",
       "    </tr>\n",
       "    <tr>\n",
       "      <th>3</th>\n",
       "      <td>\"Duk wanda ya sabawa dokar kaucewa kamuwa daga...</td>\n",
       "      <td>1.260000e+18</td>\n",
       "      <td>Positive</td>\n",
       "    </tr>\n",
       "    <tr>\n",
       "      <th>4</th>\n",
       "      <td>\"Duk wanda ya san ya fito daga yankin da ake A...</td>\n",
       "      <td>1.039268e+09</td>\n",
       "      <td>Positive</td>\n",
       "    </tr>\n",
       "  </tbody>\n",
       "</table>\n",
       "</div>"
      ],
      "text/plain": [
       "                                                text     author_id     Label\n",
       "0  - @aishambuhari ta nemi babban sufeton 'yan sa...  7.970000e+17   Neutral\n",
       "1  \"Duk dan Bokon da baida Ilimin Addini Annoba n...  2.290470e+09   Neutral\n",
       "2  \"Duk mutumin da yayi tunanin bawa mutane ilimi...  1.071387e+09   Neutral\n",
       "3  \"Duk wanda ya sabawa dokar kaucewa kamuwa daga...  1.260000e+18  Positive\n",
       "4  \"Duk wanda ya san ya fito daga yankin da ake A...  1.039268e+09  Positive"
      ]
     },
     "execution_count": 99,
     "metadata": {},
     "output_type": "execute_result"
    }
   ],
   "source": [
    "data.head()"
   ]
  },
  {
   "cell_type": "code",
   "execution_count": 100,
   "id": "9c6be05d",
   "metadata": {},
   "outputs": [],
   "source": [
    "# Read stop words\n",
    "stopwords_list = list()\n",
    "\n",
    "with open(_stopwords_filepath) as file:\n",
    "    stopwords_list = [line.strip() for line in file.readlines()]"
   ]
  },
  {
   "cell_type": "code",
   "execution_count": 101,
   "id": "6400176a",
   "metadata": {},
   "outputs": [
    {
     "name": "stdout",
     "output_type": "stream",
     "text": [
      "ta da ya sai ba yi na kuma ma ji cikin in ni wata wani ce tana don za sun amma ga ina ne mai suka wannan a ko lokacin su take shi yake yana ka ban ita tafi\n"
     ]
    }
   ],
   "source": [
    "listToStr = ' '.join([str(word) for word in stopwords_list])\n",
    "print(listToStr)"
   ]
  },
  {
   "cell_type": "code",
   "execution_count": 102,
   "id": "8aa6539c",
   "metadata": {},
   "outputs": [],
   "source": [
    "# Read saved data from disk\n",
    "def load_pickle(filename):\n",
    "    data = joblib.load(filename)\n",
    "    return(data)\n",
    "    \n",
    "# Save data to disk for future use\n",
    "def save_pickle(data, filename):\n",
    "    joblib.dump(data, filename)\n",
    "    return True"
   ]
  },
  {
   "cell_type": "code",
   "execution_count": 103,
   "id": "ef00641c",
   "metadata": {},
   "outputs": [],
   "source": [
    "# removing stopwords\n",
    "def _apply_lowercase(text):\n",
    "    text = [item for item in text if item not in stopwords_list]\n",
    "    text = ''.join(text)\n",
    "    return text\n",
    "\n",
    "# removing stopwords\n",
    "def _stopwords_removal(text):\n",
    "    text = [item for item in text if item not in stopwords_list]\n",
    "    text = ''.join(text)\n",
    "    return text\n",
    "\n",
    "# remove punctuations\n",
    "def _punctuation_removal(text):\n",
    "    all_list = [char for char in text if char not in string.punctuation]\n",
    "    clean_str = ''.join(all_list)\n",
    "    return clean_str\n",
    "\n",
    "# Shuffle dataset\n",
    "def _shuffle_dataset(dataset):\n",
    "    dataset = shuffle(data)\n",
    "    dataset = data.reset_index(drop=True)\n",
    "    return dataset"
   ]
  },
  {
   "cell_type": "code",
   "execution_count": 104,
   "id": "c5f914d3",
   "metadata": {},
   "outputs": [
    {
     "data": {
      "text/html": [
       "<div>\n",
       "<style scoped>\n",
       "    .dataframe tbody tr th:only-of-type {\n",
       "        vertical-align: middle;\n",
       "    }\n",
       "\n",
       "    .dataframe tbody tr th {\n",
       "        vertical-align: top;\n",
       "    }\n",
       "\n",
       "    .dataframe thead th {\n",
       "        text-align: right;\n",
       "    }\n",
       "</style>\n",
       "<table border=\"1\" class=\"dataframe\">\n",
       "  <thead>\n",
       "    <tr style=\"text-align: right;\">\n",
       "      <th></th>\n",
       "      <th>text</th>\n",
       "      <th>author_id</th>\n",
       "      <th>Label</th>\n",
       "    </tr>\n",
       "  </thead>\n",
       "  <tbody>\n",
       "    <tr>\n",
       "      <th>0</th>\n",
       "      <td>ishmbuhri t nemi bbbn sufeton yn snd d y mgnc...</td>\n",
       "      <td>7.970000e+17</td>\n",
       "      <td>neutral</td>\n",
       "    </tr>\n",
       "    <tr>\n",
       "      <th>1</th>\n",
       "      <td>duk dn bokon d bid ilimin ddini nnob ne cikin ...</td>\n",
       "      <td>2.290470e+09</td>\n",
       "      <td>neutral</td>\n",
       "    </tr>\n",
       "    <tr>\n",
       "      <th>2</th>\n",
       "      <td>duk mutumin d yyi tunnin bw mutne ilimi d koy ...</td>\n",
       "      <td>1.071387e+09</td>\n",
       "      <td>neutral</td>\n",
       "    </tr>\n",
       "    <tr>\n",
       "      <th>3</th>\n",
       "      <td>duk wnd y sbw dokr kucew kmuw dg cutr coron zi...</td>\n",
       "      <td>1.260000e+18</td>\n",
       "      <td>positive</td>\n",
       "    </tr>\n",
       "    <tr>\n",
       "      <th>4</th>\n",
       "      <td>duk wnd y sn y fito dg ynkin d ke nnobr coron ...</td>\n",
       "      <td>1.039268e+09</td>\n",
       "      <td>positive</td>\n",
       "    </tr>\n",
       "  </tbody>\n",
       "</table>\n",
       "</div>"
      ],
      "text/plain": [
       "                                                text     author_id     Label\n",
       "0   ishmbuhri t nemi bbbn sufeton yn snd d y mgnc...  7.970000e+17   neutral\n",
       "1  duk dn bokon d bid ilimin ddini nnob ne cikin ...  2.290470e+09   neutral\n",
       "2  duk mutumin d yyi tunnin bw mutne ilimi d koy ...  1.071387e+09   neutral\n",
       "3  duk wnd y sbw dokr kucew kmuw dg cutr coron zi...  1.260000e+18  positive\n",
       "4  duk wnd y sn y fito dg ynkin d ke nnobr coron ...  1.039268e+09  positive"
      ]
     },
     "execution_count": 104,
     "metadata": {},
     "output_type": "execute_result"
    }
   ],
   "source": [
    "# Change string to lower case\n",
    "data['text'] = data['text'].apply(str.lower)\n",
    "\n",
    "# Change label to lower case\n",
    "data['Label'] = data['Label'].apply(str.lower)\n",
    "\n",
    "# remove punctuations or special characters\n",
    "data['text'] = data['text'].apply(_punctuation_removal)\n",
    "\n",
    "# remove stopwords\n",
    "data['text'] = data['text'].apply(_stopwords_removal)\n",
    "\n",
    "# Shuffle the dataset to prevent bias:\n",
    "data = _shuffle_dataset(data)\n",
    "\n",
    "# Print head of the data\n",
    "data.head()"
   ]
  },
  {
   "cell_type": "markdown",
   "id": "478d2e3a",
   "metadata": {},
   "source": [
    "### Encode output lalbel"
   ]
  },
  {
   "cell_type": "code",
   "execution_count": 139,
   "id": "ea7b55f1",
   "metadata": {},
   "outputs": [
    {
     "data": {
      "text/html": [
       "<div>\n",
       "<style scoped>\n",
       "    .dataframe tbody tr th:only-of-type {\n",
       "        vertical-align: middle;\n",
       "    }\n",
       "\n",
       "    .dataframe tbody tr th {\n",
       "        vertical-align: top;\n",
       "    }\n",
       "\n",
       "    .dataframe thead th {\n",
       "        text-align: right;\n",
       "    }\n",
       "</style>\n",
       "<table border=\"1\" class=\"dataframe\">\n",
       "  <thead>\n",
       "    <tr style=\"text-align: right;\">\n",
       "      <th></th>\n",
       "      <th>text</th>\n",
       "      <th>author_id</th>\n",
       "      <th>Label</th>\n",
       "      <th>label_encoded</th>\n",
       "    </tr>\n",
       "  </thead>\n",
       "  <tbody>\n",
       "    <tr>\n",
       "      <th>0</th>\n",
       "      <td>ishmbuhri t nemi bbbn sufeton yn snd d y mgnc...</td>\n",
       "      <td>7.970000e+17</td>\n",
       "      <td>neutral</td>\n",
       "      <td>1</td>\n",
       "    </tr>\n",
       "    <tr>\n",
       "      <th>1</th>\n",
       "      <td>duk dn bokon d bid ilimin ddini nnob ne cikin ...</td>\n",
       "      <td>2.290470e+09</td>\n",
       "      <td>neutral</td>\n",
       "      <td>1</td>\n",
       "    </tr>\n",
       "    <tr>\n",
       "      <th>2</th>\n",
       "      <td>duk mutumin d yyi tunnin bw mutne ilimi d koy ...</td>\n",
       "      <td>1.071387e+09</td>\n",
       "      <td>neutral</td>\n",
       "      <td>1</td>\n",
       "    </tr>\n",
       "    <tr>\n",
       "      <th>3</th>\n",
       "      <td>duk wnd y sbw dokr kucew kmuw dg cutr coron zi...</td>\n",
       "      <td>1.260000e+18</td>\n",
       "      <td>positive</td>\n",
       "      <td>2</td>\n",
       "    </tr>\n",
       "    <tr>\n",
       "      <th>4</th>\n",
       "      <td>duk wnd y sn y fito dg ynkin d ke nnobr coron ...</td>\n",
       "      <td>1.039268e+09</td>\n",
       "      <td>positive</td>\n",
       "      <td>2</td>\n",
       "    </tr>\n",
       "  </tbody>\n",
       "</table>\n",
       "</div>"
      ],
      "text/plain": [
       "                                                text     author_id     Label  \\\n",
       "0   ishmbuhri t nemi bbbn sufeton yn snd d y mgnc...  7.970000e+17   neutral   \n",
       "1  duk dn bokon d bid ilimin ddini nnob ne cikin ...  2.290470e+09   neutral   \n",
       "2  duk mutumin d yyi tunnin bw mutne ilimi d koy ...  1.071387e+09   neutral   \n",
       "3  duk wnd y sbw dokr kucew kmuw dg cutr coron zi...  1.260000e+18  positive   \n",
       "4  duk wnd y sn y fito dg ynkin d ke nnobr coron ...  1.039268e+09  positive   \n",
       "\n",
       "   label_encoded  \n",
       "0              1  \n",
       "1              1  \n",
       "2              1  \n",
       "3              2  \n",
       "4              2  "
      ]
     },
     "execution_count": 139,
     "metadata": {},
     "output_type": "execute_result"
    }
   ],
   "source": [
    "# make copy of dataframe\n",
    "data_encoded = data.copy()\n",
    "\n",
    "# create a label encoder\n",
    "label_encoder = LabelEncoder()\n",
    "label_encoder.fit(data_encoded['Label'])\n",
    "\n",
    "data_encoded['label_encoded'] = label_encoder.transform(data_encoded['Label'])\n",
    "\n",
    "data_encoded.head()"
   ]
  },
  {
   "cell_type": "markdown",
   "id": "9fb16d65",
   "metadata": {},
   "source": [
    "### Split Dataset\n",
    "\n",
    "+ Tranining: 70% of the dataset\n",
    "+ Testing: 30% of dataset"
   ]
  },
  {
   "cell_type": "code",
   "execution_count": 141,
   "id": "078ec857",
   "metadata": {},
   "outputs": [
    {
     "data": {
      "text/plain": [
       "((69,), (30,))"
      ]
     },
     "execution_count": 141,
     "metadata": {},
     "output_type": "execute_result"
    }
   ],
   "source": [
    "list_classes = [\"label_encoded\"]\n",
    "\n",
    "X_train, X_test, Y_train, Y_test = train_test_split(data_encoded[\"text\"], data_encoded[list_classes], test_size=0.3, random_state = 1)\n",
    "\n",
    "Y_train = Y_train.values\n",
    "Y_test = Y_test.values\n",
    "\n",
    "# Show dimension of the comments\n",
    "X_train.shape, X_test.shape"
   ]
  },
  {
   "cell_type": "markdown",
   "id": "eb88c273",
   "metadata": {},
   "source": [
    "### Tokenize Sentences"
   ]
  },
  {
   "cell_type": "markdown",
   "id": "32ba027e",
   "metadata": {},
   "source": [
    "To be able to train our model with a text data, we'd have to convert it into number form, for this we're going to use the Tokenizer module from Keras.preprocessing library"
   ]
  },
  {
   "cell_type": "code",
   "execution_count": 142,
   "id": "5fce9302",
   "metadata": {},
   "outputs": [],
   "source": [
    "list_sentences_train = X_train.values\n",
    "list_sentences_test = X_test.values"
   ]
  },
  {
   "cell_type": "code",
   "execution_count": 143,
   "id": "0188ca71",
   "metadata": {},
   "outputs": [],
   "source": [
    "tokenizer = Tokenizer(lower=True)\n",
    "\n",
    "tokenizer.fit_on_texts(list(list_sentences_train))\n",
    "list_tokenized_train = tokenizer.texts_to_sequences(list_sentences_train)\n",
    "list_tokenized_test = tokenizer.texts_to_sequences(list_sentences_test)"
   ]
  },
  {
   "cell_type": "code",
   "execution_count": 144,
   "id": "b1cfc3c4",
   "metadata": {},
   "outputs": [
    {
     "data": {
      "text/plain": [
       "690"
      ]
     },
     "execution_count": 144,
     "metadata": {},
     "output_type": "execute_result"
    }
   ],
   "source": [
    "# size of training vocabulary (number of unique words)\n",
    "vocab_size = len(tokenizer.word_index) + 1\n",
    "vocab_size"
   ]
  },
  {
   "cell_type": "code",
   "execution_count": 145,
   "id": "32be4f77",
   "metadata": {},
   "outputs": [
    {
     "name": "stdout",
     "output_type": "stream",
     "text": [
      "[35, 93, 36, 94, 217, 95, 218, 219, 48, 220, 96, 97, 28, 66, 15, 98, 99, 221, 49, 67, 222]\n"
     ]
    }
   ],
   "source": [
    "# print out a random sequence of text from the tokenized training data\n",
    "print(random.choice(list_tokenized_train))"
   ]
  },
  {
   "cell_type": "code",
   "execution_count": 146,
   "id": "5f29ca5d",
   "metadata": {},
   "outputs": [
    {
     "name": "stdout",
     "output_type": "stream",
     "text": [
      "69 train sequences\n",
      "30 test sequences\n",
      "Average train sequence length: 18\n",
      "Average test sequence length: 9\n"
     ]
    }
   ],
   "source": [
    "print(len(list_tokenized_train), 'train sequences')\n",
    "print(len(list_tokenized_test), 'test sequences')\n",
    "\n",
    "print('Average train sequence length: {}'.format(np.mean(list(map(len, list_tokenized_train)), dtype=int)))\n",
    "print('Average test sequence length: {}'.format(np.mean(list(map(len, list_tokenized_test)), dtype=int)))"
   ]
  },
  {
   "cell_type": "markdown",
   "id": "e5d97b93",
   "metadata": {},
   "source": [
    "## Pad tokenized Sentences"
   ]
  },
  {
   "cell_type": "markdown",
   "id": "0fb53a50",
   "metadata": {},
   "source": [
    "You might have observed that the sentences are not of the same lengths, so we need to pad them with zeros (0's) so that the resulting array will have equal length.\n",
    "\n",
    "We'd use `text` module from `keras.preprocessing` library"
   ]
  },
  {
   "cell_type": "markdown",
   "id": "3d59aad7",
   "metadata": {},
   "source": [
    "We'd use a max character of 300"
   ]
  },
  {
   "cell_type": "code",
   "execution_count": 147,
   "id": "8909766f",
   "metadata": {},
   "outputs": [],
   "source": [
    "maxlen = 300\n",
    "X_train = pad_sequences(list_tokenized_train, maxlen=maxlen)\n",
    "X_test = pad_sequences(list_tokenized_test, maxlen=maxlen)"
   ]
  },
  {
   "cell_type": "code",
   "execution_count": 148,
   "id": "34cc8bcc",
   "metadata": {},
   "outputs": [
    {
     "name": "stdout",
     "output_type": "stream",
     "text": [
      "[[  0   0   0   0   0   0   0   0   0   0   0   0   0   0   0   0   0   0\n",
      "    0   0   0   0   0   0   0   0   0   0   0   0   0   0   0   0   0   0\n",
      "    0   0   0   0   0   0   0   0   0   0   0   0   0   0   0   0   0   0\n",
      "    0   0   0   0   0   0   0   0   0   0   0   0   0   0   0   0   0   0\n",
      "    0   0   0   0   0   0   0   0   0   0   0   0   0   0   0   0   0   0\n",
      "    0   0   0   0   0   0   0   0   0   0   0   0   0   0   0   0   0   0\n",
      "    0   0   0   0   0   0   0   0   0   0   0   0   0   0   0   0   0   0\n",
      "    0   0   0   0   0   0   0   0   0   0   0   0   0   0   0   0   0   0\n",
      "    0   0   0   0   0   0   0   0   0   0   0   0   0   0   0   0   0   0\n",
      "    0   0   0   0   0   0   0   0   0   0   0   0   0   0   0   0   0   0\n",
      "    0   0   0   0   0   0   0   0   0   0   0   0   0   0   0   0   0   0\n",
      "    0   0   0   0   0   0   0   0   0   0   0   0   0   0   0   0   0   0\n",
      "    0   0   0   0   0   0   0   0   0   0   0   0   0   0   0   0   0   0\n",
      "    0   0   0   0   0   0   0   0   0   0   0   0   0   0   0   0   0   0\n",
      "    0   0   0   0   0   0   0   0   0   0   0   0   0   0   0   0   0   0\n",
      "    0   0   0   0   0   0   0   0   0   0   0   0   0   0   0   0   0   0\n",
      "    0   0   0 156  85 157  22 158 159 160   2   4]]\n"
     ]
    }
   ],
   "source": [
    "print(X_train[:1])"
   ]
  },
  {
   "cell_type": "markdown",
   "id": "731bc39d",
   "metadata": {},
   "source": [
    "## Use pre-trained Word Embedding"
   ]
  },
  {
   "cell_type": "code",
   "execution_count": 149,
   "id": "6fcae41f",
   "metadata": {},
   "outputs": [],
   "source": [
    "# load saved genism model from disk\n",
    "model_sg = Word2Vec.load(_embedding_model_filepath)\n",
    "\n",
    "# load saved numpy vectors from disk\n",
    "vectors = np.load(_pretrained_vectors_filepath)\n",
    "\n",
    "# load a saved trainable numpy vectors from disk\n",
    "vectors_neg = np.load(_neg_vectors_filepath)"
   ]
  },
  {
   "cell_type": "code",
   "execution_count": 150,
   "id": "cda3f4fd",
   "metadata": {},
   "outputs": [],
   "source": [
    "# get vocabularies from saved model\n",
    "vocabs = list()\n",
    "\n",
    "for word, vocab_obj in model_sg.wv.vocab.items():\n",
    "    vocabs.append(word)\n",
    "\n",
    "# delete unused variables to free memory\n",
    "del((word, vocab_obj))"
   ]
  },
  {
   "cell_type": "code",
   "execution_count": 151,
   "id": "a8564ddf",
   "metadata": {},
   "outputs": [
    {
     "data": {
      "text/plain": [
       "(90451, 90451, 90451)"
      ]
     },
     "execution_count": 151,
     "metadata": {},
     "output_type": "execute_result"
    }
   ],
   "source": [
    "# Check length of vectors\n",
    "len(vectors), len(vectors_neg), len(vocabs)"
   ]
  },
  {
   "cell_type": "code",
   "execution_count": 152,
   "id": "7a5a54e7",
   "metadata": {},
   "outputs": [],
   "source": [
    "# create word embedding dictionary\n",
    "embeddings = dict()\n",
    "\n",
    "# zip words and their corresponding vectors\n",
    "for i, (word,vector) in enumerate(zip(vocabs, vectors)):\n",
    "    embeddings[word] = vector\n",
    "    \n",
    "# delete unused variables to free memory\n",
    "del((i, word, vector))"
   ]
  },
  {
   "cell_type": "code",
   "execution_count": 153,
   "id": "882350c3",
   "metadata": {},
   "outputs": [
    {
     "name": "stdout",
     "output_type": "stream",
     "text": [
      "Converted 232 words (457 misses)\n"
     ]
    }
   ],
   "source": [
    "num_tokens = vocab_size\n",
    "embedding_dim = 300\n",
    "hits = 0\n",
    "misses = 0\n",
    "\n",
    "\n",
    "# create a weight matrix for words in training docs\n",
    "embedding_matrix = np.zeros((vocab_size, 300))\n",
    "\n",
    "for word, i in tokenizer.word_index.items():\n",
    "    embedding_vector = embeddings.get(word)\n",
    "    \n",
    "    if embedding_vector is not None:\n",
    "        # Words not found in embedding index will be all-zeros.\n",
    "        # This includes the representation for \"padding\" and \"OOV\"\n",
    "        embedding_matrix[i] = embedding_vector\n",
    "        hits += 1\n",
    "    else:\n",
    "        misses += 1\n",
    "        \n",
    "print(\"Converted %d words (%d misses)\" % (hits, misses))"
   ]
  },
  {
   "cell_type": "markdown",
   "id": "af7e3bb3",
   "metadata": {},
   "source": [
    "## Build Model"
   ]
  },
  {
   "cell_type": "code",
   "execution_count": 279,
   "id": "f8cb21cd",
   "metadata": {},
   "outputs": [],
   "source": [
    "model = Sequential()"
   ]
  },
  {
   "cell_type": "code",
   "execution_count": 280,
   "id": "126fcf84",
   "metadata": {},
   "outputs": [
    {
     "name": "stdout",
     "output_type": "stream",
     "text": [
      "WARNING:tensorflow:Please add `keras.layers.InputLayer` instead of `keras.Input` to Sequential model. `keras.Input` is intended to be used by Functional model.\n"
     ]
    }
   ],
   "source": [
    "model.add(Input(shape=(maxlen, )))"
   ]
  },
  {
   "cell_type": "code",
   "execution_count": 281,
   "id": "27415b4c",
   "metadata": {},
   "outputs": [],
   "source": [
    "embed_size = 300\n",
    "model.add(Embedding(vocab_size, embed_size, weights=[embedding_matrix], trainable=False))"
   ]
  },
  {
   "cell_type": "code",
   "execution_count": 282,
   "id": "8f7b256b",
   "metadata": {},
   "outputs": [],
   "source": [
    "model.add(LSTM(60, return_sequences=True,name='lstm_layer'))"
   ]
  },
  {
   "cell_type": "code",
   "execution_count": 283,
   "id": "f4db9d71",
   "metadata": {},
   "outputs": [],
   "source": [
    "model.add(GlobalMaxPool1D())"
   ]
  },
  {
   "cell_type": "code",
   "execution_count": 284,
   "id": "deb5256f",
   "metadata": {},
   "outputs": [],
   "source": [
    "model.add(Dropout(0.1))"
   ]
  },
  {
   "cell_type": "code",
   "execution_count": 285,
   "id": "694a3b36",
   "metadata": {},
   "outputs": [],
   "source": [
    "model.add(Dense(50, activation=\"relu\"))"
   ]
  },
  {
   "cell_type": "code",
   "execution_count": 286,
   "id": "41ba4428",
   "metadata": {},
   "outputs": [],
   "source": [
    "model.add(Dropout(0.1))"
   ]
  },
  {
   "cell_type": "code",
   "execution_count": 287,
   "id": "d2017706",
   "metadata": {},
   "outputs": [],
   "source": [
    "model.add(Dense(3, activation=\"softmax\"))"
   ]
  },
  {
   "cell_type": "code",
   "execution_count": 288,
   "id": "503665e4",
   "metadata": {},
   "outputs": [],
   "source": [
    "model.compile(loss='sparse_categorical_crossentropy',\n",
    "                  optimizer='adam',\n",
    "                  metrics=['accuracy'])"
   ]
  },
  {
   "cell_type": "code",
   "execution_count": 289,
   "id": "1621de8a",
   "metadata": {},
   "outputs": [
    {
     "name": "stdout",
     "output_type": "stream",
     "text": [
      "Model: \"sequential_12\"\n",
      "_________________________________________________________________\n",
      "Layer (type)                 Output Shape              Param #   \n",
      "=================================================================\n",
      "embedding_12 (Embedding)     (None, 300, 300)          207000    \n",
      "_________________________________________________________________\n",
      "lstm_layer (LSTM)            (None, 300, 60)           86640     \n",
      "_________________________________________________________________\n",
      "global_max_pooling1d_11 (Glo (None, 60)                0         \n",
      "_________________________________________________________________\n",
      "dropout_21 (Dropout)         (None, 60)                0         \n",
      "_________________________________________________________________\n",
      "dense_21 (Dense)             (None, 50)                3050      \n",
      "_________________________________________________________________\n",
      "dropout_22 (Dropout)         (None, 50)                0         \n",
      "_________________________________________________________________\n",
      "dense_22 (Dense)             (None, 3)                 153       \n",
      "=================================================================\n",
      "Total params: 296,843\n",
      "Trainable params: 89,843\n",
      "Non-trainable params: 207,000\n",
      "_________________________________________________________________\n"
     ]
    }
   ],
   "source": [
    "model.summary()"
   ]
  },
  {
   "cell_type": "markdown",
   "id": "00bf9bfe",
   "metadata": {},
   "source": [
    "### Create plot for model architecture"
   ]
  },
  {
   "cell_type": "code",
   "execution_count": 290,
   "id": "000d9476",
   "metadata": {},
   "outputs": [
    {
     "data": {
      "image/png": "[encoded data removed]",
      "text/plain": [
       "<IPython.core.display.Image object>"
      ]
     },
     "execution_count": 290,
     "metadata": {},
     "output_type": "execute_result"
    }
   ],
   "source": [
    "# Plot model\n",
    "dot_img_file = 'model_1.png'\n",
    "tf.keras.utils.plot_model(model, to_file=dot_img_file,\n",
    "                          show_shapes=True,\n",
    "                          show_layer_names=True,\n",
    "                          rankdir=\"TB\",\n",
    "                          expand_nested=True,\n",
    "                          dpi=96\n",
    "                         )"
   ]
  },
  {
   "cell_type": "markdown",
   "id": "3e8c8470",
   "metadata": {},
   "source": [
    "### Train model"
   ]
  },
  {
   "cell_type": "code",
   "execution_count": 291,
   "id": "0170c26c",
   "metadata": {},
   "outputs": [
    {
     "name": "stdout",
     "output_type": "stream",
     "text": [
      "Epoch 1/10\n",
      "5/5 [==============================] - 2s 131ms/step - loss: 1.0141 - accuracy: 0.6812 - val_loss: 1.0228 - val_accuracy: 0.6333\n",
      "Epoch 2/10\n",
      "5/5 [==============================] - 0s 25ms/step - loss: 0.9093 - accuracy: 0.6957 - val_loss: 1.0033 - val_accuracy: 0.6333\n",
      "Epoch 3/10\n",
      "5/5 [==============================] - 0s 25ms/step - loss: 0.8278 - accuracy: 0.6957 - val_loss: 1.0213 - val_accuracy: 0.6333\n",
      "Epoch 4/10\n",
      "5/5 [==============================] - 0s 22ms/step - loss: 0.8088 - accuracy: 0.6957 - val_loss: 1.0238 - val_accuracy: 0.6333\n",
      "Epoch 5/10\n",
      "5/5 [==============================] - 0s 22ms/step - loss: 0.8030 - accuracy: 0.6957 - val_loss: 0.9851 - val_accuracy: 0.6333\n",
      "Epoch 6/10\n",
      "5/5 [==============================] - 0s 18ms/step - loss: 0.7736 - accuracy: 0.6957 - val_loss: 0.9720 - val_accuracy: 0.6333\n",
      "Epoch 7/10\n",
      "5/5 [==============================] - 0s 19ms/step - loss: 0.7570 - accuracy: 0.6957 - val_loss: 0.9510 - val_accuracy: 0.6333\n",
      "Epoch 8/10\n",
      "5/5 [==============================] - 0s 18ms/step - loss: 0.7480 - accuracy: 0.6957 - val_loss: 0.9458 - val_accuracy: 0.6333\n",
      "Epoch 9/10\n",
      "5/5 [==============================] - 0s 19ms/step - loss: 0.7389 - accuracy: 0.6957 - val_loss: 0.9610 - val_accuracy: 0.6333\n",
      "Epoch 10/10\n",
      "5/5 [==============================] - 0s 19ms/step - loss: 0.6794 - accuracy: 0.6957 - val_loss: 0.9784 - val_accuracy: 0.6333\n"
     ]
    },
    {
     "data": {
      "text/plain": [
       "<tensorflow.python.keras.callbacks.History at 0x2555531f1c8>"
      ]
     },
     "execution_count": 291,
     "metadata": {},
     "output_type": "execute_result"
    }
   ],
   "source": [
    "batch_size = 16\n",
    "epochs = 10\n",
    "model.fit(X_train, Y_train, batch_size=batch_size, epochs=epochs, validation_data=(X_test, Y_test))"
   ]
  },
  {
   "cell_type": "markdown",
   "id": "df02ca4a",
   "metadata": {},
   "source": [
    "### Evaluate model"
   ]
  },
  {
   "cell_type": "code",
   "execution_count": 292,
   "id": "70f3014f",
   "metadata": {},
   "outputs": [
    {
     "name": "stdout",
     "output_type": "stream",
     "text": [
      "1/1 [==============================] - 0s 103ms/step - loss: 0.9784 - accuracy: 0.6333\n",
      "score: 0.9784\n",
      "acc: 0.6333\n"
     ]
    }
   ],
   "source": [
    "score, accuracy = model.evaluate(X_test, Y_test, verbose = 1, batch_size = 32)\n",
    "print(\"score: %.4f\" % (score))\n",
    "print(\"acc: %.4f\" % (accuracy))"
   ]
  },
  {
   "cell_type": "code",
   "execution_count": 293,
   "id": "02ccf56d",
   "metadata": {},
   "outputs": [
    {
     "name": "stdout",
     "output_type": "stream",
     "text": [
      "1/1 [==============================] - 0s 246ms/step\n"
     ]
    }
   ],
   "source": [
    "predictions = model.predict(X_test, batch_size=32, verbose=1)"
   ]
  },
  {
   "cell_type": "code",
   "execution_count": 294,
   "id": "63baf56a",
   "metadata": {},
   "outputs": [
    {
     "data": {
      "text/plain": [
       "array([[0.15194073, 0.26400492, 0.58405435],\n",
       "       [0.09628842, 0.1046031 , 0.7991085 ],\n",
       "       [0.11922377, 0.13757797, 0.7431983 ],\n",
       "       [0.08501362, 0.11615617, 0.7988302 ],\n",
       "       [0.08941777, 0.0885543 , 0.822028  ],\n",
       "       [0.09288263, 0.12591147, 0.78120595],\n",
       "       [0.11577389, 0.13829775, 0.7459284 ],\n",
       "       [0.11066388, 0.14237548, 0.7469606 ],\n",
       "       [0.12855522, 0.1617096 , 0.70973516],\n",
       "       [0.2098911 , 0.23586862, 0.5542402 ],\n",
       "       [0.05768017, 0.07811902, 0.86420083],\n",
       "       [0.19615912, 0.26318663, 0.54065424],\n",
       "       [0.04266948, 0.0907727 , 0.86655784],\n",
       "       [0.13285747, 0.21575278, 0.6513897 ],\n",
       "       [0.100775  , 0.14079402, 0.758431  ],\n",
       "       [0.04586654, 0.13904129, 0.8150922 ],\n",
       "       [0.08938961, 0.1826948 , 0.7279156 ],\n",
       "       [0.14596239, 0.22367461, 0.63036305],\n",
       "       [0.15392858, 0.28954816, 0.5565232 ],\n",
       "       [0.04219559, 0.07750609, 0.8802984 ],\n",
       "       [0.03569048, 0.15328209, 0.81102747],\n",
       "       [0.04617725, 0.12677445, 0.8270483 ],\n",
       "       [0.23252277, 0.29411113, 0.4733661 ],\n",
       "       [0.2684032 , 0.31933454, 0.41226226],\n",
       "       [0.16164488, 0.25430483, 0.5840503 ],\n",
       "       [0.28664184, 0.23344369, 0.47991446],\n",
       "       [0.06225752, 0.0832645 , 0.85447794],\n",
       "       [0.07344916, 0.12046169, 0.80608916],\n",
       "       [0.2684032 , 0.31933454, 0.41226226],\n",
       "       [0.04213722, 0.084267  , 0.8735958 ]], dtype=float32)"
      ]
     },
     "execution_count": 294,
     "metadata": {},
     "output_type": "execute_result"
    }
   ],
   "source": [
    "predictions"
   ]
  },
  {
   "cell_type": "code",
   "execution_count": 295,
   "id": "7f03abeb",
   "metadata": {},
   "outputs": [
    {
     "name": "stdout",
     "output_type": "stream",
     "text": [
      "[INFO] classifying tweet 0\n"
     ]
    },
    {
     "ename": "IndexError",
     "evalue": "list index out of range",
     "output_type": "error",
     "traceback": [
      "\u001b[1;31m---------------------------------------------------------------------------\u001b[0m",
      "\u001b[1;31mIndexError\u001b[0m                                Traceback (most recent call last)",
      "\u001b[1;32mC:\\Users\\PHUCKM~1\\AppData\\Local\\Temp/ipykernel_18084/2215485795.py\u001b[0m in \u001b[0;36m<module>\u001b[1;34m\u001b[0m\n\u001b[0;32m     11\u001b[0m \u001b[1;32mfor\u001b[0m \u001b[1;33m(\u001b[0m\u001b[0mi\u001b[0m\u001b[1;33m,\u001b[0m \u001b[0mj\u001b[0m\u001b[1;33m)\u001b[0m \u001b[1;32min\u001b[0m \u001b[0menumerate\u001b[0m\u001b[1;33m(\u001b[0m\u001b[0midxs\u001b[0m\u001b[1;33m)\u001b[0m\u001b[1;33m:\u001b[0m\u001b[1;33m\u001b[0m\u001b[1;33m\u001b[0m\u001b[0m\n\u001b[0;32m     12\u001b[0m     \u001b[1;31m# build the label and draw the label on the image\u001b[0m\u001b[1;33m\u001b[0m\u001b[1;33m\u001b[0m\u001b[1;33m\u001b[0m\u001b[0m\n\u001b[1;32m---> 13\u001b[1;33m     \u001b[0mlabel\u001b[0m \u001b[1;33m=\u001b[0m \u001b[1;34m\"{}: {:.2f}%\"\u001b[0m\u001b[1;33m.\u001b[0m\u001b[0mformat\u001b[0m\u001b[1;33m(\u001b[0m\u001b[0mlist_classes\u001b[0m\u001b[1;33m[\u001b[0m\u001b[0mj\u001b[0m\u001b[1;33m]\u001b[0m\u001b[1;33m,\u001b[0m \u001b[0mproba\u001b[0m\u001b[1;33m[\u001b[0m\u001b[0mj\u001b[0m\u001b[1;33m]\u001b[0m \u001b[1;33m*\u001b[0m \u001b[1;36m100\u001b[0m\u001b[1;33m)\u001b[0m\u001b[1;33m\u001b[0m\u001b[1;33m\u001b[0m\u001b[0m\n\u001b[0m\u001b[0;32m     14\u001b[0m \u001b[1;33m\u001b[0m\u001b[0m\n\u001b[0;32m     15\u001b[0m \u001b[1;31m# show the probabilities for each of the individual labels\u001b[0m\u001b[1;33m\u001b[0m\u001b[1;33m\u001b[0m\u001b[1;33m\u001b[0m\u001b[0m\n",
      "\u001b[1;31mIndexError\u001b[0m: list index out of range"
     ]
    }
   ],
   "source": [
    "# classify the input image then find the indexes of the two class\n",
    "# labels with the *largest* probability\n",
    "index = 0\n",
    "\n",
    "print(\"[INFO] classifying tweet {}\".format(index))\n",
    "\n",
    "proba = predictions[index]\n",
    "idxs = np.argsort(proba)[::-1][:2]\n",
    "\n",
    "# loop over the indexes of the high confidence class labels\n",
    "for (i, j) in enumerate(idxs):\n",
    "    # build the label and draw the label on the image\n",
    "    label = \"{}: {:.2f}%\".format(list_classes[j], proba[j] * 100)\n",
    "    \n",
    "# show the probabilities for each of the individual labels\n",
    "for (label, p) in zip(list_classes, proba):\n",
    "    print(\"{}: {:.2f}%\".format(label, p * 100))\n"
   ]
  },
  {
   "cell_type": "code",
   "execution_count": 296,
   "id": "ee537845",
   "metadata": {},
   "outputs": [
    {
     "name": "stdout",
     "output_type": "stream",
     "text": [
      "For threshold:  0.1\n"
     ]
    },
    {
     "ename": "ValueError",
     "evalue": "Classification metrics can't handle a mix of multiclass and multilabel-indicator targets",
     "output_type": "error",
     "traceback": [
      "\u001b[1;31m---------------------------------------------------------------------------\u001b[0m",
      "\u001b[1;31mValueError\u001b[0m                                Traceback (most recent call last)",
      "\u001b[1;32mC:\\Users\\PHUCKM~1\\AppData\\Local\\Temp/ipykernel_18084/300971437.py\u001b[0m in \u001b[0;36m<module>\u001b[1;34m\u001b[0m\n\u001b[0;32m      7\u001b[0m     \u001b[0mpred\u001b[0m\u001b[1;33m[\u001b[0m\u001b[0mpred\u001b[0m\u001b[1;33m<\u001b[0m\u001b[0mval\u001b[0m\u001b[1;33m]\u001b[0m\u001b[1;33m=\u001b[0m\u001b[1;36m0\u001b[0m\u001b[1;33m\u001b[0m\u001b[1;33m\u001b[0m\u001b[0m\n\u001b[0;32m      8\u001b[0m \u001b[1;33m\u001b[0m\u001b[0m\n\u001b[1;32m----> 9\u001b[1;33m     \u001b[0mprecision\u001b[0m \u001b[1;33m=\u001b[0m \u001b[0mprecision_score\u001b[0m\u001b[1;33m(\u001b[0m\u001b[0mY_test\u001b[0m\u001b[1;33m,\u001b[0m \u001b[0mpred\u001b[0m\u001b[1;33m,\u001b[0m \u001b[0maverage\u001b[0m\u001b[1;33m=\u001b[0m\u001b[1;34m'micro'\u001b[0m\u001b[1;33m)\u001b[0m\u001b[1;33m\u001b[0m\u001b[1;33m\u001b[0m\u001b[0m\n\u001b[0m\u001b[0;32m     10\u001b[0m     \u001b[0mrecall\u001b[0m \u001b[1;33m=\u001b[0m \u001b[0mrecall_score\u001b[0m\u001b[1;33m(\u001b[0m\u001b[0mY_test\u001b[0m\u001b[1;33m,\u001b[0m \u001b[0mpred\u001b[0m\u001b[1;33m,\u001b[0m \u001b[0maverage\u001b[0m\u001b[1;33m=\u001b[0m\u001b[1;34m'micro'\u001b[0m\u001b[1;33m)\u001b[0m\u001b[1;33m\u001b[0m\u001b[1;33m\u001b[0m\u001b[0m\n\u001b[0;32m     11\u001b[0m     \u001b[0mf1\u001b[0m \u001b[1;33m=\u001b[0m \u001b[0mf1_score\u001b[0m\u001b[1;33m(\u001b[0m\u001b[0mY_test\u001b[0m\u001b[1;33m,\u001b[0m \u001b[0mpred\u001b[0m\u001b[1;33m,\u001b[0m \u001b[0maverage\u001b[0m\u001b[1;33m=\u001b[0m\u001b[1;34m'micro'\u001b[0m\u001b[1;33m)\u001b[0m\u001b[1;33m\u001b[0m\u001b[1;33m\u001b[0m\u001b[0m\n",
      "\u001b[1;32m~\\DS\\sentiment_analysis_hausa\\venv\\lib\\site-packages\\sklearn\\metrics\\_classification.py\u001b[0m in \u001b[0;36mprecision_score\u001b[1;34m(y_true, y_pred, labels, pos_label, average, sample_weight, zero_division)\u001b[0m\n\u001b[0;32m   1744\u001b[0m         \u001b[0mwarn_for\u001b[0m\u001b[1;33m=\u001b[0m\u001b[1;33m(\u001b[0m\u001b[1;34m\"precision\"\u001b[0m\u001b[1;33m,\u001b[0m\u001b[1;33m)\u001b[0m\u001b[1;33m,\u001b[0m\u001b[1;33m\u001b[0m\u001b[1;33m\u001b[0m\u001b[0m\n\u001b[0;32m   1745\u001b[0m         \u001b[0msample_weight\u001b[0m\u001b[1;33m=\u001b[0m\u001b[0msample_weight\u001b[0m\u001b[1;33m,\u001b[0m\u001b[1;33m\u001b[0m\u001b[1;33m\u001b[0m\u001b[0m\n\u001b[1;32m-> 1746\u001b[1;33m         \u001b[0mzero_division\u001b[0m\u001b[1;33m=\u001b[0m\u001b[0mzero_division\u001b[0m\u001b[1;33m,\u001b[0m\u001b[1;33m\u001b[0m\u001b[1;33m\u001b[0m\u001b[0m\n\u001b[0m\u001b[0;32m   1747\u001b[0m     )\n\u001b[0;32m   1748\u001b[0m     \u001b[1;32mreturn\u001b[0m \u001b[0mp\u001b[0m\u001b[1;33m\u001b[0m\u001b[1;33m\u001b[0m\u001b[0m\n",
      "\u001b[1;32m~\\DS\\sentiment_analysis_hausa\\venv\\lib\\site-packages\\sklearn\\metrics\\_classification.py\u001b[0m in \u001b[0;36mprecision_recall_fscore_support\u001b[1;34m(y_true, y_pred, beta, labels, pos_label, average, warn_for, sample_weight, zero_division)\u001b[0m\n\u001b[0;32m   1532\u001b[0m     \u001b[1;32mif\u001b[0m \u001b[0mbeta\u001b[0m \u001b[1;33m<\u001b[0m \u001b[1;36m0\u001b[0m\u001b[1;33m:\u001b[0m\u001b[1;33m\u001b[0m\u001b[1;33m\u001b[0m\u001b[0m\n\u001b[0;32m   1533\u001b[0m         \u001b[1;32mraise\u001b[0m \u001b[0mValueError\u001b[0m\u001b[1;33m(\u001b[0m\u001b[1;34m\"beta should be >=0 in the F-beta score\"\u001b[0m\u001b[1;33m)\u001b[0m\u001b[1;33m\u001b[0m\u001b[1;33m\u001b[0m\u001b[0m\n\u001b[1;32m-> 1534\u001b[1;33m     \u001b[0mlabels\u001b[0m \u001b[1;33m=\u001b[0m \u001b[0m_check_set_wise_labels\u001b[0m\u001b[1;33m(\u001b[0m\u001b[0my_true\u001b[0m\u001b[1;33m,\u001b[0m \u001b[0my_pred\u001b[0m\u001b[1;33m,\u001b[0m \u001b[0maverage\u001b[0m\u001b[1;33m,\u001b[0m \u001b[0mlabels\u001b[0m\u001b[1;33m,\u001b[0m \u001b[0mpos_label\u001b[0m\u001b[1;33m)\u001b[0m\u001b[1;33m\u001b[0m\u001b[1;33m\u001b[0m\u001b[0m\n\u001b[0m\u001b[0;32m   1535\u001b[0m \u001b[1;33m\u001b[0m\u001b[0m\n\u001b[0;32m   1536\u001b[0m     \u001b[1;31m# Calculate tp_sum, pred_sum, true_sum ###\u001b[0m\u001b[1;33m\u001b[0m\u001b[1;33m\u001b[0m\u001b[1;33m\u001b[0m\u001b[0m\n",
      "\u001b[1;32m~\\DS\\sentiment_analysis_hausa\\venv\\lib\\site-packages\\sklearn\\metrics\\_classification.py\u001b[0m in \u001b[0;36m_check_set_wise_labels\u001b[1;34m(y_true, y_pred, average, labels, pos_label)\u001b[0m\n\u001b[0;32m   1336\u001b[0m         \u001b[1;32mraise\u001b[0m \u001b[0mValueError\u001b[0m\u001b[1;33m(\u001b[0m\u001b[1;34m\"average has to be one of \"\u001b[0m \u001b[1;33m+\u001b[0m \u001b[0mstr\u001b[0m\u001b[1;33m(\u001b[0m\u001b[0maverage_options\u001b[0m\u001b[1;33m)\u001b[0m\u001b[1;33m)\u001b[0m\u001b[1;33m\u001b[0m\u001b[1;33m\u001b[0m\u001b[0m\n\u001b[0;32m   1337\u001b[0m \u001b[1;33m\u001b[0m\u001b[0m\n\u001b[1;32m-> 1338\u001b[1;33m     \u001b[0my_type\u001b[0m\u001b[1;33m,\u001b[0m \u001b[0my_true\u001b[0m\u001b[1;33m,\u001b[0m \u001b[0my_pred\u001b[0m \u001b[1;33m=\u001b[0m \u001b[0m_check_targets\u001b[0m\u001b[1;33m(\u001b[0m\u001b[0my_true\u001b[0m\u001b[1;33m,\u001b[0m \u001b[0my_pred\u001b[0m\u001b[1;33m)\u001b[0m\u001b[1;33m\u001b[0m\u001b[1;33m\u001b[0m\u001b[0m\n\u001b[0m\u001b[0;32m   1339\u001b[0m     \u001b[1;31m# Convert to Python primitive type to avoid NumPy type / Python str\u001b[0m\u001b[1;33m\u001b[0m\u001b[1;33m\u001b[0m\u001b[1;33m\u001b[0m\u001b[0m\n\u001b[0;32m   1340\u001b[0m     \u001b[1;31m# comparison. See https://github.com/numpy/numpy/issues/6784\u001b[0m\u001b[1;33m\u001b[0m\u001b[1;33m\u001b[0m\u001b[1;33m\u001b[0m\u001b[0m\n",
      "\u001b[1;32m~\\DS\\sentiment_analysis_hausa\\venv\\lib\\site-packages\\sklearn\\metrics\\_classification.py\u001b[0m in \u001b[0;36m_check_targets\u001b[1;34m(y_true, y_pred)\u001b[0m\n\u001b[0;32m     93\u001b[0m         raise ValueError(\n\u001b[0;32m     94\u001b[0m             \"Classification metrics can't handle a mix of {0} and {1} targets\".format(\n\u001b[1;32m---> 95\u001b[1;33m                 \u001b[0mtype_true\u001b[0m\u001b[1;33m,\u001b[0m \u001b[0mtype_pred\u001b[0m\u001b[1;33m\u001b[0m\u001b[1;33m\u001b[0m\u001b[0m\n\u001b[0m\u001b[0;32m     96\u001b[0m             )\n\u001b[0;32m     97\u001b[0m         )\n",
      "\u001b[1;31mValueError\u001b[0m: Classification metrics can't handle a mix of multiclass and multilabel-indicator targets"
     ]
    }
   ],
   "source": [
    "thresholds=[0.1,0.2,0.3,0.4,0.5,0.6,0.7,0.8,0.9]\n",
    "for val in thresholds:\n",
    "    print(\"For threshold: \", val)\n",
    "    pred=predictions.copy()\n",
    "  \n",
    "    pred[pred>=val]=1\n",
    "    pred[pred<val]=0\n",
    "  \n",
    "    precision = precision_score(Y_test, pred, average='micro')\n",
    "    recall = recall_score(Y_test, pred, average='micro')\n",
    "    f1 = f1_score(Y_test, pred, average='micro')\n",
    "    accuracy = accuracy_score(Y_test, pred, normalize=True)\n",
    "\n",
    "    print(\"Micro-average quality numbers\")\n",
    "    print(\"Precision: {:.4f}, Recall: {:.4f}, F1-measure: {:.4f}, Accuracy: {:.4f}\".format(precision, recall, f1, accuracy))\n"
   ]
  },
  {
   "cell_type": "code",
   "execution_count": null,
   "id": "f7677fb6",
   "metadata": {},
   "outputs": [],
   "source": []
  }
 ],
 "metadata": {
  "kernelspec": {
   "display_name": "Python 3 (ipykernel)",
   "language": "python",
   "name": "python3"
  },
  "language_info": {
   "codemirror_mode": {
    "name": "ipython",
    "version": 3
   },
   "file_extension": ".py",
   "mimetype": "text/x-python",
   "name": "python",
   "nbconvert_exporter": "python",
   "pygments_lexer": "ipython3",
   "version": "3.7.8"
  }
 },
 "nbformat": 4,
 "nbformat_minor": 5
}
